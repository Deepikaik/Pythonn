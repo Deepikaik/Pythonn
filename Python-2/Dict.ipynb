{
 "cells": [
  {
   "cell_type": "code",
   "execution_count": 1,
   "id": "717936eb-c0ae-4015-9c06-5ba6288a5faa",
   "metadata": {},
   "outputs": [
    {
     "name": "stdout",
     "output_type": "stream",
     "text": [
      "<class 'dict'>\n"
     ]
    }
   ],
   "source": [
    "d={}\n",
    "print(type(d))"
   ]
  },
  {
   "cell_type": "code",
   "execution_count": 6,
   "id": "be936a3a-c9e6-4c0d-b077-e51fd734c7d1",
   "metadata": {},
   "outputs": [
    {
     "name": "stdout",
     "output_type": "stream",
     "text": [
      "{'eid': 101, 'ename': 'Rahul', 'esal': 45000.45, 'avail': True}\n",
      "<class 'dict'>\n"
     ]
    }
   ],
   "source": [
    "d={'eid':101,\n",
    "   'ename':'Rahul',\n",
    "   'esal':45000.45,\n",
    "  'avail':True}\n",
    "print(d)\n",
    "print(type(d))"
   ]
  },
  {
   "cell_type": "code",
   "execution_count": 9,
   "id": "6a2c85fc-2d47-457e-a168-d33e1548a7ab",
   "metadata": {},
   "outputs": [
    {
     "name": "stdout",
     "output_type": "stream",
     "text": [
      "{'eid': 104}\n",
      "{'eid': 101, 'eids': 101, 'eidss': 101, 'eidsss': 101}\n"
     ]
    }
   ],
   "source": [
    "d={'eid':101,           #duplicate keys are not allowed BUT duplicate values are allowed\n",
    "   'eid':102,\n",
    "   'eid':103,\n",
    "   'eid':104}\n",
    "print(d)\n",
    "d={'eid':101,           #duplicate keys are not allowed BUT duplicate values are allowed\n",
    "   'eids':101,\n",
    "   'eidss':101,\n",
    "   'eidsss':101}\n",
    "print(d)"
   ]
  },
  {
   "cell_type": "code",
   "execution_count": 14,
   "id": "91764c12-2d4a-43e8-84ed-54cbeb3fb508",
   "metadata": {},
   "outputs": [
    {
     "ename": "KeyError",
     "evalue": "1",
     "output_type": "error",
     "traceback": [
      "\u001b[1;31m---------------------------------------------------------------------------\u001b[0m",
      "\u001b[1;31mKeyError\u001b[0m                                  Traceback (most recent call last)",
      "Cell \u001b[1;32mIn[14], line 6\u001b[0m\n\u001b[0;32m      1\u001b[0m d\u001b[38;5;241m=\u001b[39m{\u001b[38;5;124m'\u001b[39m\u001b[38;5;124meid\u001b[39m\u001b[38;5;124m'\u001b[39m:\u001b[38;5;241m101\u001b[39m,           \n\u001b[0;32m      2\u001b[0m    \u001b[38;5;124m'\u001b[39m\u001b[38;5;124meid\u001b[39m\u001b[38;5;124m'\u001b[39m:\u001b[38;5;241m102\u001b[39m,\n\u001b[0;32m      3\u001b[0m    \u001b[38;5;124m'\u001b[39m\u001b[38;5;124meid\u001b[39m\u001b[38;5;124m'\u001b[39m:\u001b[38;5;241m103\u001b[39m,\n\u001b[0;32m      4\u001b[0m    \u001b[38;5;124m'\u001b[39m\u001b[38;5;124meid\u001b[39m\u001b[38;5;124m'\u001b[39m:\u001b[38;5;241m104\u001b[39m\n\u001b[0;32m      5\u001b[0m   }\n\u001b[1;32m----> 6\u001b[0m \u001b[38;5;28mprint\u001b[39m(\u001b[43md\u001b[49m\u001b[43m[\u001b[49m\u001b[38;5;241;43m1\u001b[39;49m\u001b[43m]\u001b[49m)         \u001b[38;5;66;03m#indexing concept is not applicable\u001b[39;00m\n",
      "\u001b[1;31mKeyError\u001b[0m: 1"
     ]
    }
   ],
   "source": [
    "d={'eid':101,           \n",
    "   'eid':102,\n",
    "   'eid':103,\n",
    "   'eid':104\n",
    "  }\n",
    "print(d[1])         #indexing concept is not applicable"
   ]
  },
  {
   "cell_type": "code",
   "execution_count": 16,
   "id": "478ce75b-f1ff-45ea-a502-84c348d6e5be",
   "metadata": {},
   "outputs": [
    {
     "name": "stdout",
     "output_type": "stream",
     "text": [
      "101\n",
      "Rahul\n",
      "45000.45\n",
      "True\n"
     ]
    }
   ],
   "source": [
    "#print all dict values\n",
    "\n",
    "d={'eid':101,\n",
    "   'ename':'Rahul',\n",
    "   'esal':45000.45,\n",
    "  'avail':True}\n",
    "print(d['eid'])\n",
    "print(d['ename'])\n",
    "print(d['esal'])\n",
    "print(d['avail'])                         #to read dict values"
   ]
  },
  {
   "cell_type": "code",
   "execution_count": 20,
   "id": "47b793f3-85a3-42eb-85a1-b5d874e5da92",
   "metadata": {},
   "outputs": [
    {
     "name": "stdout",
     "output_type": "stream",
     "text": [
      "101\n",
      "None\n",
      "45000.45\n",
      "True\n"
     ]
    }
   ],
   "source": [
    "d={'eid':101,\n",
    "   'ename':'Rahul',\n",
    "   'esal':45000.45,\n",
    "  'avail':True}\n",
    "print(d.get('eid'))\n",
    "print(d.get('enames'))\n",
    "print(d.get('esal'))\n",
    "print(d.get('avail'))"
   ]
  },
  {
   "cell_type": "code",
   "execution_count": 24,
   "id": "eaa57c81-16eb-4f49-9448-1d97422caab1",
   "metadata": {},
   "outputs": [
    {
     "name": "stdout",
     "output_type": "stream",
     "text": [
      "eid\n",
      "ename\n",
      "esal\n",
      "avail\n"
     ]
    }
   ],
   "source": [
    "emp={'eid':101,\n",
    "   'ename':'Rahul',\n",
    "   'esal':45000.45,\n",
    "  'avail':True}\n",
    "for x in emp:\n",
    "    print(x)"
   ]
  },
  {
   "cell_type": "code",
   "execution_count": 30,
   "id": "d9524795-0102-4161-b5f0-9e38e52c99f3",
   "metadata": {},
   "outputs": [
    {
     "name": "stdout",
     "output_type": "stream",
     "text": [
      "eid\n",
      "ename\n",
      "esal\n",
      "avail\n"
     ]
    }
   ],
   "source": [
    "emp={'eid':101,\n",
    "   'ename':'Rahul',\n",
    "   'esal':45000.45,\n",
    "  'avail':True}\n",
    "for key in emp.keys():                     #using .key method or fnc in for loop\n",
    "    print(key)"
   ]
  },
  {
   "cell_type": "code",
   "execution_count": 34,
   "id": "faeaaabd-793d-4b7b-bacb-a4c78630d159",
   "metadata": {},
   "outputs": [
    {
     "name": "stdout",
     "output_type": "stream",
     "text": [
      "101\n",
      "Rahul\n",
      "45000.45\n",
      "True\n"
     ]
    }
   ],
   "source": [
    "emp={'eid':101,\n",
    "   'ename':'Rahul',\n",
    "   'esal':45000.45,\n",
    "  'avail':True}\n",
    "for values in emp.values():           #using .values method or fnc in for loop\n",
    "    print(values)"
   ]
  },
  {
   "cell_type": "code",
   "execution_count": 38,
   "id": "ca172ad0-9392-4e23-9edd-65a74f3f4368",
   "metadata": {},
   "outputs": [
    {
     "name": "stdout",
     "output_type": "stream",
     "text": [
      "('eid', 101)\n",
      "('ename', 'Rahul')\n",
      "('esal', 45000.45)\n",
      "('avail', True)\n"
     ]
    }
   ],
   "source": [
    "emp={'eid':101,\n",
    "   'ename':'Rahul',\n",
    "   'esal':45000.45,\n",
    "  'avail':True}\n",
    "for items in emp.items():                 #using .items method or fnc in for loop\n",
    "    print(items)"
   ]
  },
  {
   "cell_type": "code",
   "execution_count": null,
   "id": "3600f1f0-df8a-48d6-a8ee-683c079bff33",
   "metadata": {},
   "outputs": [],
   "source": []
  }
 ],
 "metadata": {
  "kernelspec": {
   "display_name": "Python 3 (ipykernel)",
   "language": "python",
   "name": "python3"
  },
  "language_info": {
   "codemirror_mode": {
    "name": "ipython",
    "version": 3
   },
   "file_extension": ".py",
   "mimetype": "text/x-python",
   "name": "python",
   "nbconvert_exporter": "python",
   "pygments_lexer": "ipython3",
   "version": "3.12.5"
  }
 },
 "nbformat": 4,
 "nbformat_minor": 5
}
