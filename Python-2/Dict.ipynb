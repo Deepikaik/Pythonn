{
 "cells": [
  {
   "cell_type": "code",
   "execution_count": 1,
   "id": "717936eb-c0ae-4015-9c06-5ba6288a5faa",
   "metadata": {},
   "outputs": [
    {
     "name": "stdout",
     "output_type": "stream",
     "text": [
      "<class 'dict'>\n"
     ]
    }
   ],
   "source": [
    "d={}\n",
    "print(type(d))"
   ]
  },
  {
   "cell_type": "code",
   "execution_count": 6,
   "id": "be936a3a-c9e6-4c0d-b077-e51fd734c7d1",
   "metadata": {},
   "outputs": [
    {
     "name": "stdout",
     "output_type": "stream",
     "text": [
      "{'eid': 101, 'ename': 'Rahul', 'esal': 45000.45, 'avail': True}\n",
      "<class 'dict'>\n"
     ]
    }
   ],
   "source": [
    "d={'eid':101,\n",
    "   'ename':'Rahul',\n",
    "   'esal':45000.45,\n",
    "  'avail':True}\n",
    "print(d)\n",
    "print(type(d))"
   ]
  },
  {
   "cell_type": "code",
   "execution_count": 9,
   "id": "6a2c85fc-2d47-457e-a168-d33e1548a7ab",
   "metadata": {},
   "outputs": [
    {
     "name": "stdout",
     "output_type": "stream",
     "text": [
      "{'eid': 104}\n",
      "{'eid': 101, 'eids': 101, 'eidss': 101, 'eidsss': 101}\n"
     ]
    }
   ],
   "source": [
    "d={'eid':101,           #duplicate keys are not allowed BUT duplicate values are allowed\n",
    "   'eid':102,\n",
    "   'eid':103,\n",
    "   'eid':104}\n",
    "print(d)\n",
    "d={'eid':101,           #duplicate keys are not allowed BUT duplicate values are allowed\n",
    "   'eids':101,\n",
    "   'eidss':101,\n",
    "   'eidsss':101}\n",
    "print(d)"
   ]
  },
  {
   "cell_type": "code",
   "execution_count": 14,
   "id": "91764c12-2d4a-43e8-84ed-54cbeb3fb508",
   "metadata": {},
   "outputs": [
    {
     "ename": "KeyError",
     "evalue": "1",
     "output_type": "error",
     "traceback": [
      "\u001b[1;31m---------------------------------------------------------------------------\u001b[0m",
      "\u001b[1;31mKeyError\u001b[0m                                  Traceback (most recent call last)",
      "Cell \u001b[1;32mIn[14], line 6\u001b[0m\n\u001b[0;32m      1\u001b[0m d\u001b[38;5;241m=\u001b[39m{\u001b[38;5;124m'\u001b[39m\u001b[38;5;124meid\u001b[39m\u001b[38;5;124m'\u001b[39m:\u001b[38;5;241m101\u001b[39m,           \n\u001b[0;32m      2\u001b[0m    \u001b[38;5;124m'\u001b[39m\u001b[38;5;124meid\u001b[39m\u001b[38;5;124m'\u001b[39m:\u001b[38;5;241m102\u001b[39m,\n\u001b[0;32m      3\u001b[0m    \u001b[38;5;124m'\u001b[39m\u001b[38;5;124meid\u001b[39m\u001b[38;5;124m'\u001b[39m:\u001b[38;5;241m103\u001b[39m,\n\u001b[0;32m      4\u001b[0m    \u001b[38;5;124m'\u001b[39m\u001b[38;5;124meid\u001b[39m\u001b[38;5;124m'\u001b[39m:\u001b[38;5;241m104\u001b[39m\n\u001b[0;32m      5\u001b[0m   }\n\u001b[1;32m----> 6\u001b[0m \u001b[38;5;28mprint\u001b[39m(\u001b[43md\u001b[49m\u001b[43m[\u001b[49m\u001b[38;5;241;43m1\u001b[39;49m\u001b[43m]\u001b[49m)         \u001b[38;5;66;03m#indexing concept is not applicable\u001b[39;00m\n",
      "\u001b[1;31mKeyError\u001b[0m: 1"
     ]
    }
   ],
   "source": [
    "d={'eid':101,           \n",
    "   'eid':102,\n",
    "   'eid':103,\n",
    "   'eid':104\n",
    "  }\n",
    "print(d[1])         #indexing concept is not applicable"
   ]
  },
  {
   "cell_type": "code",
   "execution_count": 16,
   "id": "478ce75b-f1ff-45ea-a502-84c348d6e5be",
   "metadata": {},
   "outputs": [
    {
     "name": "stdout",
     "output_type": "stream",
     "text": [
      "101\n",
      "Rahul\n",
      "45000.45\n",
      "True\n"
     ]
    }
   ],
   "source": [
    "#print all dict values\n",
    "\n",
    "d={'eid':101,\n",
    "   'ename':'Rahul',\n",
    "   'esal':45000.45,\n",
    "  'avail':True}\n",
    "print(d['eid'])\n",
    "print(d['ename'])\n",
    "print(d['esal'])\n",
    "print(d['avail'])                         #to read dict values"
   ]
  },
  {
   "cell_type": "code",
   "execution_count": 20,
   "id": "47b793f3-85a3-42eb-85a1-b5d874e5da92",
   "metadata": {},
   "outputs": [
    {
     "name": "stdout",
     "output_type": "stream",
     "text": [
      "101\n",
      "None\n",
      "45000.45\n",
      "True\n"
     ]
    }
   ],
   "source": [
    "d={'eid':101,\n",
    "   'ename':'Rahul',\n",
    "   'esal':45000.45,\n",
    "  'avail':True}\n",
    "print(d.get('eid'))\n",
    "print(d.get('enames'))\n",
    "print(d.get('esal'))\n",
    "print(d.get('avail'))"
   ]
  },
  {
   "cell_type": "code",
   "execution_count": 24,
   "id": "eaa57c81-16eb-4f49-9448-1d97422caab1",
   "metadata": {},
   "outputs": [
    {
     "name": "stdout",
     "output_type": "stream",
     "text": [
      "eid\n",
      "ename\n",
      "esal\n",
      "avail\n"
     ]
    }
   ],
   "source": [
    "emp={'eid':101,\n",
    "   'ename':'Rahul',\n",
    "   'esal':45000.45,\n",
    "  'avail':True}\n",
    "for x in emp:\n",
    "    print(x)"
   ]
  },
  {
   "cell_type": "code",
   "execution_count": 30,
   "id": "d9524795-0102-4161-b5f0-9e38e52c99f3",
   "metadata": {},
   "outputs": [
    {
     "name": "stdout",
     "output_type": "stream",
     "text": [
      "eid\n",
      "ename\n",
      "esal\n",
      "avail\n"
     ]
    }
   ],
   "source": [
    "emp={'eid':101,\n",
    "   'ename':'Rahul',\n",
    "   'esal':45000.45,\n",
    "  'avail':True}\n",
    "for key in emp.keys():                     #using .key method or fnc in for loop\n",
    "    print(key)"
   ]
  },
  {
   "cell_type": "code",
   "execution_count": 34,
   "id": "faeaaabd-793d-4b7b-bacb-a4c78630d159",
   "metadata": {},
   "outputs": [
    {
     "name": "stdout",
     "output_type": "stream",
     "text": [
      "101\n",
      "Rahul\n",
      "45000.45\n",
      "True\n"
     ]
    }
   ],
   "source": [
    "emp={'eid':101,\n",
    "   'ename':'Rahul',\n",
    "   'esal':45000.45,\n",
    "  'avail':True}\n",
    "for values in emp.values():           #using .values method or fnc in for loop\n",
    "    print(values)"
   ]
  },
  {
   "cell_type": "code",
   "execution_count": 38,
   "id": "ca172ad0-9392-4e23-9edd-65a74f3f4368",
   "metadata": {},
   "outputs": [
    {
     "name": "stdout",
     "output_type": "stream",
     "text": [
      "('eid', 101)\n",
      "('ename', 'Rahul')\n",
      "('esal', 45000.45)\n",
      "('avail', True)\n"
     ]
    }
   ],
   "source": [
    "emp={'eid':101,\n",
    "   'ename':'Rahul',\n",
    "   'esal':45000.45,\n",
    "  'avail':True}\n",
    "for items in emp.items():                 #using .items method or fnc in for loop\n",
    "    print(items)"
   ]
  },
  {
   "cell_type": "code",
   "execution_count": 4,
   "id": "3600f1f0-df8a-48d6-a8ee-683c079bff33",
   "metadata": {},
   "outputs": [
    {
     "name": "stdout",
     "output_type": "stream",
     "text": [
      "101\n",
      "101\n"
     ]
    },
    {
     "ename": "KeyError",
     "evalue": "'loc'",
     "output_type": "error",
     "traceback": [
      "\u001b[1;31m---------------------------------------------------------------------------\u001b[0m",
      "\u001b[1;31mKeyError\u001b[0m                                  Traceback (most recent call last)",
      "Cell \u001b[1;32mIn[4], line 9\u001b[0m\n\u001b[0;32m      7\u001b[0m \u001b[38;5;28mprint\u001b[39m(emp[\u001b[38;5;124m'\u001b[39m\u001b[38;5;124meid\u001b[39m\u001b[38;5;124m'\u001b[39m])\n\u001b[0;32m      8\u001b[0m \u001b[38;5;28mprint\u001b[39m(emp\u001b[38;5;241m.\u001b[39mget(\u001b[38;5;124m'\u001b[39m\u001b[38;5;124meid\u001b[39m\u001b[38;5;124m'\u001b[39m))\n\u001b[1;32m----> 9\u001b[0m \u001b[38;5;28mprint\u001b[39m(\u001b[43memp\u001b[49m\u001b[43m[\u001b[49m\u001b[38;5;124;43m'\u001b[39;49m\u001b[38;5;124;43mloc\u001b[39;49m\u001b[38;5;124;43m'\u001b[39;49m\u001b[43m]\u001b[49m)\n",
      "\u001b[1;31mKeyError\u001b[0m: 'loc'"
     ]
    }
   ],
   "source": [
    "#create\n",
    "emp={'eid':101,\n",
    "   'ename':'Rahul',\n",
    "   'esal':45000.45,\n",
    "}\n",
    "#read\n",
    "print(emp['eid'])\n",
    "print(emp.get('eid'))\n",
    "print(emp['loc'])"
   ]
  },
  {
   "cell_type": "code",
   "execution_count": 5,
   "id": "b0b0f259-0dff-4474-b3c4-81e82b4edee2",
   "metadata": {},
   "outputs": [],
   "source": [
    "emp={'Rahul':45000,\n",
    "     'Sonia':45000,\n",
    "     'Priya':55000,\n",
    "    }\n"
   ]
  },
  {
   "cell_type": "code",
   "execution_count": 10,
   "id": "f963b0a2-6859-4981-a4c3-189e8e92947c",
   "metadata": {},
   "outputs": [
    {
     "name": "stdout",
     "output_type": "stream",
     "text": [
      "eid\n",
      "ename\n",
      "esal\n",
      "101\n",
      "Rahul\n",
      "45000.45\n",
      "('eid', 101)\n",
      "('ename', 'Rahul')\n",
      "('esal', 45000.45)\n",
      "eid : 101\n",
      "ename : Rahul\n",
      "esal : 45000.45\n"
     ]
    }
   ],
   "source": [
    "emp={'eid':101,\n",
    "   'ename':'Rahul',\n",
    "   'esal':45000.45,\n",
    "}\n",
    "#to read key and values from a dict  .keys .value  .items \n",
    "for key in emp.keys():                     \n",
    "    print(key)\n",
    "for value in emp.values():\n",
    "    print(value)\n",
    "for item in emp.items():\n",
    "    print(item)\n",
    "for key,value in emp.items():\n",
    "    print(key,':',value)"
   ]
  },
  {
   "cell_type": "code",
   "execution_count": 16,
   "id": "b1ca2435-0325-4c91-b00a-8edcd7b4f89b",
   "metadata": {},
   "outputs": [
    {
     "name": "stdout",
     "output_type": "stream",
     "text": [
      "{'ename': 'Rahul'}\n",
      "{'ename': 'Rahul', 'eid': 101}\n"
     ]
    }
   ],
   "source": [
    "#update\n",
    "emp={}\n",
    "emp['ename']=\"Rahul\"\n",
    "print(emp)\n",
    "\n",
    "emp.update({'eid':101})     #using .update method\n",
    "print(emp)"
   ]
  },
  {
   "cell_type": "code",
   "execution_count": 19,
   "id": "72beff17-6cc7-4ce9-9a11-802fc4254f92",
   "metadata": {},
   "outputs": [
    {
     "name": "stdout",
     "output_type": "stream",
     "text": [
      "101\n",
      "{'eid': 101}\n"
     ]
    }
   ],
   "source": [
    "emp={'eid':101}\n",
    "value=emp.setdefault('eid',102)    #using .setdefault method (rarely used)\n",
    "print(value) #if specified key is not present it is going to add it if specified key is available then it does nothing but sets default\n",
    "print(emp)"
   ]
  },
  {
   "cell_type": "code",
   "execution_count": 21,
   "id": "7080ebd3-ec29-4fc9-afdc-94f953dd22f0",
   "metadata": {},
   "outputs": [
    {
     "name": "stdout",
     "output_type": "stream",
     "text": [
      "{'ename': 'Rahul', 'esal': 45000.45}\n",
      "101\n"
     ]
    }
   ],
   "source": [
    "emp={'eid':101,\n",
    "   'ename':'Rahul',\n",
    "   'esal':45000.45,\n",
    "}\n",
    "x=emp.pop('eid')     #removes only the specified key and its value\n",
    "print(emp)\n",
    "print(x)"
   ]
  },
  {
   "cell_type": "code",
   "execution_count": 22,
   "id": "7f57441b-cab1-4489-92b6-156e922b1cdc",
   "metadata": {},
   "outputs": [
    {
     "name": "stdout",
     "output_type": "stream",
     "text": [
      "{'eid': 101, 'ename': 'Rahul'}\n"
     ]
    }
   ],
   "source": [
    "emp={'eid':101,\n",
    "   'ename':'Rahul',\n",
    "   'esal':45000.45,\n",
    "}\n",
    "emp.popitem()             #removes last key and value\n",
    "print(emp)"
   ]
  },
  {
   "cell_type": "code",
   "execution_count": 27,
   "id": "bca75da4-58f8-4ce2-8086-d1899de228cf",
   "metadata": {},
   "outputs": [
    {
     "name": "stdout",
     "output_type": "stream",
     "text": [
      "Enoch\n",
      "1\n",
      "Othelia\n",
      "2\n",
      "Winne\n",
      "3\n",
      "Cornelia\n",
      "4\n",
      "Burg\n",
      "5\n",
      "Ewan\n",
      "6\n",
      "Armando\n",
      "7\n",
      "Cyrus\n",
      "8\n",
      "Eilis\n",
      "9\n",
      "Josiah\n",
      "10\n",
      "Lyn\n",
      "11\n",
      "Padraic\n",
      "12\n",
      "Cameron\n",
      "13\n",
      "Henri\n",
      "14\n",
      "Artemas\n",
      "15\n",
      "Timoteo\n",
      "16\n",
      "Cristabel\n",
      "17\n",
      "Carlita\n",
      "18\n",
      "Ignacio\n",
      "19\n",
      "Vincent\n",
      "20\n",
      "Dione\n",
      "21\n",
      "Georgiana\n",
      "22\n",
      "Lidia\n",
      "23\n",
      "Lambert\n",
      "24\n",
      "Elayne\n",
      "25\n",
      "Francoise\n",
      "26\n",
      "Clea\n",
      "27\n",
      "Robb\n",
      "28\n",
      "Shannon\n",
      "29\n",
      "Bertha\n",
      "30\n",
      "Rycca\n",
      "31\n",
      "Bartlet\n",
      "32\n",
      "Sammy\n",
      "33\n",
      "Celina\n",
      "34\n",
      "Krissie\n",
      "35\n",
      "Emory\n",
      "36\n",
      "Reid\n",
      "37\n",
      "Teresita\n",
      "38\n",
      "Alleyn\n",
      "39\n",
      "Micheline\n",
      "40\n",
      "Abram\n",
      "41\n",
      "Fabian\n",
      "42\n",
      "Alan\n",
      "43\n",
      "Christophorus\n",
      "44\n",
      "Hedy\n",
      "45\n",
      "Sioux\n",
      "46\n",
      "Karoly\n",
      "47\n",
      "Burl\n",
      "48\n",
      "Jarid\n",
      "49\n",
      "Wallie\n",
      "50\n",
      "Katy\n",
      "51\n",
      "Saree\n",
      "52\n",
      "Marcille\n",
      "53\n",
      "Adham\n",
      "54\n",
      "Otes\n",
      "55\n",
      "Mallory\n",
      "56\n",
      "Lishe\n",
      "57\n",
      "Clarissa\n",
      "58\n",
      "Krystyna\n",
      "59\n",
      "Parke\n",
      "60\n",
      "Myrwyn\n",
      "61\n",
      "Bev\n",
      "62\n",
      "Arther\n",
      "63\n",
      "Bennie\n",
      "64\n",
      "Jarred\n",
      "65\n",
      "Theodore\n",
      "66\n",
      "Constanta\n",
      "67\n",
      "Goldi\n",
      "68\n",
      "Steffane\n",
      "69\n",
      "Donalt\n",
      "70\n",
      "Port\n",
      "71\n",
      "Gage\n",
      "72\n",
      "Janaye\n",
      "73\n",
      "Brandie\n",
      "74\n",
      "Maisey\n",
      "75\n",
      "Lishe\n",
      "76\n",
      "Errol\n",
      "77\n",
      "Jada\n",
      "78\n",
      "Kenn\n",
      "79\n",
      "Winston\n",
      "80\n",
      "Lind\n",
      "81\n",
      "Dominick\n",
      "82\n",
      "Arabela\n",
      "83\n",
      "Bill\n",
      "84\n",
      "Lilias\n",
      "85\n",
      "Drusy\n",
      "86\n",
      "Jordanna\n",
      "87\n",
      "Ynez\n",
      "88\n",
      "Eustacia\n",
      "89\n",
      "Lishe\n",
      "90\n",
      "Francine\n",
      "91\n",
      "Chrystel\n",
      "92\n",
      "Knox\n",
      "93\n",
      "Brendan\n",
      "94\n",
      "Shermy\n",
      "95\n",
      "Loren\n",
      "96\n",
      "Emelda\n",
      "97\n",
      "Fanechka\n",
      "98\n",
      "Meade\n",
      "99\n",
      "Marcie\n",
      "100\n"
     ]
    }
   ],
   "source": [
    "users=[{\"id\":1,\"name\":\"Enoch\",\"gender\":\"Male\",\"sal\":\"$65026.54\"},\n",
    "{\"id\":2,\"name\":\"Othelia\",\"gender\":\"Female\",\"sal\":\"$50954.46\"},\n",
    "{\"id\":3,\"name\":\"Winne\",\"gender\":\"Female\",\"sal\":\"$64369.87\"},\n",
    "{\"id\":4,\"name\":\"Cornelia\",\"gender\":\"Female\",\"sal\":\"$50258.01\"},\n",
    "{\"id\":5,\"name\":\"Burg\",\"gender\":\"Male\",\"sal\":\"$69564.22\"},\n",
    "{\"id\":6,\"name\":\"Ewan\",\"gender\":\"Male\",\"sal\":\"$50537.29\"},\n",
    "{\"id\":7,\"name\":\"Armando\",\"gender\":\"Male\",\"sal\":\"$50507.06\"},\n",
    "{\"id\":8,\"name\":\"Cyrus\",\"gender\":\"Male\",\"sal\":\"$66446.63\"},\n",
    "{\"id\":9,\"name\":\"Eilis\",\"gender\":\"Female\",\"sal\":\"$42468.13\"},\n",
    "{\"id\":10,\"name\":\"Josiah\",\"gender\":\"Male\",\"sal\":\"$54766.32\"},\n",
    "{\"id\":11,\"name\":\"Lyn\",\"gender\":\"Female\",\"sal\":\"$48764.36\"},\n",
    "{\"id\":12,\"name\":\"Padraic\",\"gender\":\"Male\",\"sal\":\"$46773.48\"},\n",
    "{\"id\":13,\"name\":\"Cameron\",\"gender\":\"Male\",\"sal\":\"$56835.67\"},\n",
    "{\"id\":14,\"name\":\"Henri\",\"gender\":\"Male\",\"sal\":\"$67052.93\"},\n",
    "{\"id\":15,\"name\":\"Artemas\",\"gender\":\"Male\",\"sal\":\"$42625.94\"},\n",
    "{\"id\":16,\"name\":\"Timoteo\",\"gender\":\"Male\",\"sal\":\"$59732.64\"},\n",
    "{\"id\":17,\"name\":\"Cristabel\",\"gender\":\"Female\",\"sal\":\"$50106.38\"},\n",
    "{\"id\":18,\"name\":\"Carlita\",\"gender\":\"Non-binary\",\"sal\":\"$66005.09\"},\n",
    "{\"id\":19,\"name\":\"Ignacio\",\"gender\":\"Male\",\"sal\":\"$40121.77\"},\n",
    "{\"id\":20,\"name\":\"Vincent\",\"gender\":\"Male\",\"sal\":\"$59513.74\"},\n",
    "{\"id\":21,\"name\":\"Dione\",\"gender\":\"Female\",\"sal\":\"$46614.46\"},\n",
    "{\"id\":22,\"name\":\"Georgiana\",\"gender\":\"Female\",\"sal\":\"$53383.54\"},\n",
    "{\"id\":23,\"name\":\"Lidia\",\"gender\":\"Female\",\"sal\":\"$62501.05\"},\n",
    "{\"id\":24,\"name\":\"Lambert\",\"gender\":\"Male\",\"sal\":\"$41347.36\"},\n",
    "{\"id\":25,\"name\":\"Elayne\",\"gender\":\"Female\",\"sal\":\"$50497.62\"},\n",
    "{\"id\":26,\"name\":\"Francoise\",\"gender\":\"Female\",\"sal\":\"$64627.79\"},\n",
    "{\"id\":27,\"name\":\"Clea\",\"gender\":\"Female\",\"sal\":\"$43931.43\"},\n",
    "{\"id\":28,\"name\":\"Robb\",\"gender\":\"Male\",\"sal\":\"$66087.16\"},\n",
    "{\"id\":29,\"name\":\"Shannon\",\"gender\":\"Female\",\"sal\":\"$63223.96\"},\n",
    "{\"id\":30,\"name\":\"Bertha\",\"gender\":\"Female\",\"sal\":\"$61799.50\"},\n",
    "{\"id\":31,\"name\":\"Rycca\",\"gender\":\"Female\",\"sal\":\"$43159.72\"},\n",
    "{\"id\":32,\"name\":\"Bartlet\",\"gender\":\"Male\",\"sal\":\"$51004.65\"},\n",
    "{\"id\":33,\"name\":\"Sammy\",\"gender\":\"Male\",\"sal\":\"$51976.23\"},\n",
    "{\"id\":34,\"name\":\"Celina\",\"gender\":\"Female\",\"sal\":\"$49472.17\"},\n",
    "{\"id\":35,\"name\":\"Krissie\",\"gender\":\"Bigender\",\"sal\":\"$58247.40\"},\n",
    "{\"id\":36,\"name\":\"Emory\",\"gender\":\"Male\",\"sal\":\"$68210.19\"},\n",
    "{\"id\":37,\"name\":\"Reid\",\"gender\":\"Male\",\"sal\":\"$41639.80\"},\n",
    "{\"id\":38,\"name\":\"Teresita\",\"gender\":\"Female\",\"sal\":\"$61277.19\"},\n",
    "{\"id\":39,\"name\":\"Alleyn\",\"gender\":\"Male\",\"sal\":\"$55212.68\"},\n",
    "{\"id\":40,\"name\":\"Micheline\",\"gender\":\"Genderqueer\",\"sal\":\"$43174.73\"},\n",
    "{\"id\":41,\"name\":\"Abram\",\"gender\":\"Male\",\"sal\":\"$58775.62\"},\n",
    "{\"id\":42,\"name\":\"Fabian\",\"gender\":\"Male\",\"sal\":\"$67209.70\"},\n",
    "{\"id\":43,\"name\":\"Alan\",\"gender\":\"Male\",\"sal\":\"$57560.06\"},\n",
    "{\"id\":44,\"name\":\"Christophorus\",\"gender\":\"Male\",\"sal\":\"$40006.20\"},\n",
    "{\"id\":45,\"name\":\"Hedy\",\"gender\":\"Female\",\"sal\":\"$54944.03\"},\n",
    "{\"id\":46,\"name\":\"Sioux\",\"gender\":\"Female\",\"sal\":\"$54597.37\"},\n",
    "{\"id\":47,\"name\":\"Karoly\",\"gender\":\"Female\",\"sal\":\"$53322.47\"},\n",
    "{\"id\":48,\"name\":\"Burl\",\"gender\":\"Male\",\"sal\":\"$52233.55\"},\n",
    "{\"id\":49,\"name\":\"Jarid\",\"gender\":\"Male\",\"sal\":\"$48799.38\"},\n",
    "{\"id\":50,\"name\":\"Wallie\",\"gender\":\"Female\",\"sal\":\"$50829.34\"},\n",
    "{\"id\":51,\"name\":\"Katy\",\"gender\":\"Female\",\"sal\":\"$53988.60\"},\n",
    "{\"id\":52,\"name\":\"Saree\",\"gender\":\"Female\",\"sal\":\"$43480.88\"},\n",
    "{\"id\":53,\"name\":\"Marcille\",\"gender\":\"Female\",\"sal\":\"$63263.57\"},\n",
    "{\"id\":54,\"name\":\"Adham\",\"gender\":\"Male\",\"sal\":\"$41712.81\"},\n",
    "{\"id\":55,\"name\":\"Otes\",\"gender\":\"Agender\",\"sal\":\"$44839.55\"},\n",
    "{\"id\":56,\"name\":\"Mallory\",\"gender\":\"Female\",\"sal\":\"$66627.38\"},\n",
    "{\"id\":57,\"name\":\"Lishe\",\"gender\":\"Female\",\"sal\":\"$47719.97\"},\n",
    "{\"id\":58,\"name\":\"Clarissa\",\"gender\":\"Female\",\"sal\":\"$46828.87\"},\n",
    "{\"id\":59,\"name\":\"Krystyna\",\"gender\":\"Female\",\"sal\":\"$51854.70\"},\n",
    "{\"id\":60,\"name\":\"Parke\",\"gender\":\"Non-binary\",\"sal\":\"$59845.61\"},\n",
    "{\"id\":61,\"name\":\"Myrwyn\",\"gender\":\"Male\",\"sal\":\"$65609.13\"},\n",
    "{\"id\":62,\"name\":\"Bev\",\"gender\":\"Male\",\"sal\":\"$50892.26\"},\n",
    "{\"id\":63,\"name\":\"Arther\",\"gender\":\"Male\",\"sal\":\"$64235.16\"},\n",
    "{\"id\":64,\"name\":\"Bennie\",\"gender\":\"Female\",\"sal\":\"$52738.15\"},\n",
    "{\"id\":65,\"name\":\"Jarred\",\"gender\":\"Male\",\"sal\":\"$67802.56\"},\n",
    "{\"id\":66,\"name\":\"Theodore\",\"gender\":\"Male\",\"sal\":\"$65228.60\"},\n",
    "{\"id\":67,\"name\":\"Constanta\",\"gender\":\"Female\",\"sal\":\"$47946.17\"},\n",
    "{\"id\":68,\"name\":\"Goldi\",\"gender\":\"Female\",\"sal\":\"$52207.31\"},\n",
    "{\"id\":69,\"name\":\"Steffane\",\"gender\":\"Female\",\"sal\":\"$60941.69\"},\n",
    "{\"id\":70,\"name\":\"Donalt\",\"gender\":\"Male\",\"sal\":\"$46643.40\"},\n",
    "{\"id\":71,\"name\":\"Port\",\"gender\":\"Male\",\"sal\":\"$40930.91\"},\n",
    "{\"id\":72,\"name\":\"Gage\",\"gender\":\"Male\",\"sal\":\"$67340.99\"},\n",
    "{\"id\":73,\"name\":\"Janaye\",\"gender\":\"Female\",\"sal\":\"$59620.18\"},\n",
    "{\"id\":74,\"name\":\"Brandie\",\"gender\":\"Female\",\"sal\":\"$54530.43\"},\n",
    "{\"id\":75,\"name\":\"Maisey\",\"gender\":\"Female\",\"sal\":\"$68707.08\"},\n",
    "{\"id\":76,\"name\":\"Lishe\",\"gender\":\"Female\",\"sal\":\"$44157.75\"},\n",
    "{\"id\":77,\"name\":\"Errol\",\"gender\":\"Genderfluid\",\"sal\":\"$67342.84\"},\n",
    "{\"id\":78,\"name\":\"Jada\",\"gender\":\"Female\",\"sal\":\"$69254.13\"},\n",
    "{\"id\":79,\"name\":\"Kenn\",\"gender\":\"Male\",\"sal\":\"$69584.86\"},\n",
    "{\"id\":80,\"name\":\"Winston\",\"gender\":\"Male\",\"sal\":\"$45793.16\"},\n",
    "{\"id\":81,\"name\":\"Lind\",\"gender\":\"Female\",\"sal\":\"$66940.16\"},\n",
    "{\"id\":82,\"name\":\"Dominick\",\"gender\":\"Male\",\"sal\":\"$65990.19\"},\n",
    "{\"id\":83,\"name\":\"Arabela\",\"gender\":\"Female\",\"sal\":\"$63303.12\"},\n",
    "{\"id\":84,\"name\":\"Bill\",\"gender\":\"Bigender\",\"sal\":\"$57234.06\"},\n",
    "{\"id\":85,\"name\":\"Lilias\",\"gender\":\"Female\",\"sal\":\"$66533.11\"},\n",
    "{\"id\":86,\"name\":\"Drusy\",\"gender\":\"Female\",\"sal\":\"$60808.69\"},\n",
    "{\"id\":87,\"name\":\"Jordanna\",\"gender\":\"Female\",\"sal\":\"$45632.72\"},\n",
    "{\"id\":88,\"name\":\"Ynez\",\"gender\":\"Female\",\"sal\":\"$61459.28\"},\n",
    "{\"id\":89,\"name\":\"Eustacia\",\"gender\":\"Female\",\"sal\":\"$64902.81\"},\n",
    "{\"id\":90,\"name\":\"Lishe\",\"gender\":\"Female\",\"sal\":\"$67202.78\"},\n",
    "{\"id\":91,\"name\":\"Francine\",\"gender\":\"Female\",\"sal\":\"$40971.00\"},\n",
    "{\"id\":92,\"name\":\"Chrystel\",\"gender\":\"Female\",\"sal\":\"$62536.31\"},\n",
    "{\"id\":93,\"name\":\"Knox\",\"gender\":\"Male\",\"sal\":\"$53173.29\"},\n",
    "{\"id\":94,\"name\":\"Brendan\",\"gender\":\"Male\",\"sal\":\"$47957.88\"},\n",
    "{\"id\":95,\"name\":\"Shermy\",\"gender\":\"Male\",\"sal\":\"$66371.12\"},\n",
    "{\"id\":96,\"name\":\"Loren\",\"gender\":\"Male\",\"sal\":\"$48245.18\"},\n",
    "{\"id\":97,\"name\":\"Emelda\",\"gender\":\"Female\",\"sal\":\"$41994.10\"},\n",
    "{\"id\":98,\"name\":\"Fanechka\",\"gender\":\"Female\",\"sal\":\"$51168.69\"},\n",
    "{\"id\":99,\"name\":\"Meade\",\"gender\":\"Male\",\"sal\":\"$55144.26\"},\n",
    "{\"id\":100,\"name\":\"Marcie\",\"gender\":\"Bigender\",\"sal\":\"$46758.53\"}]\n",
    "\n",
    "for user in users:\n",
    "    print(user['name'])\n",
    "    print(user['id'])"
   ]
  },
  {
   "cell_type": "code",
   "execution_count": null,
   "id": "7362c78f-ae71-4f6b-8559-89e9b1d5b7b7",
   "metadata": {},
   "outputs": [],
   "source": []
  }
 ],
 "metadata": {
  "kernelspec": {
   "display_name": "Python 3 (ipykernel)",
   "language": "python",
   "name": "python3"
  },
  "language_info": {
   "codemirror_mode": {
    "name": "ipython",
    "version": 3
   },
   "file_extension": ".py",
   "mimetype": "text/x-python",
   "name": "python",
   "nbconvert_exporter": "python",
   "pygments_lexer": "ipython3",
   "version": "3.12.5"
  }
 },
 "nbformat": 4,
 "nbformat_minor": 5
}
