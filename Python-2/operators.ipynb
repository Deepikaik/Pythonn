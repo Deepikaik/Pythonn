{
 "cells": [
  {
   "cell_type": "code",
   "execution_count": 1,
   "id": "534c90ad-1343-468d-8fd4-4deefc7b3385",
   "metadata": {},
   "outputs": [
    {
     "name": "stdout",
     "output_type": "stream",
     "text": [
      "30\n"
     ]
    }
   ],
   "source": [
    "a=10\n",
    "b=20\n",
    "c=30.5\n",
    "print(a+b)\n",
    "    "
   ]
  },
  {
   "cell_type": "code",
   "execution_count": 2,
   "id": "112c8678-f653-411e-b403-f8ded9b91dad",
   "metadata": {},
   "outputs": [
    {
     "name": "stdout",
     "output_type": "stream",
     "text": [
      "30\n"
     ]
    },
    {
     "ename": "TypeError",
     "evalue": "unsupported operand type(s) for +: 'int' and 'str'",
     "output_type": "error",
     "traceback": [
      "\u001b[1;31m---------------------------------------------------------------------------\u001b[0m",
      "\u001b[1;31mTypeError\u001b[0m                                 Traceback (most recent call last)",
      "Cell \u001b[1;32mIn[2], line 6\u001b[0m\n\u001b[0;32m      4\u001b[0m d\u001b[38;5;241m=\u001b[39m\u001b[38;5;124m\"\u001b[39m\u001b[38;5;124mRahul\u001b[39m\u001b[38;5;124m\"\u001b[39m\n\u001b[0;32m      5\u001b[0m \u001b[38;5;28mprint\u001b[39m(a\u001b[38;5;241m+\u001b[39mb)\n\u001b[1;32m----> 6\u001b[0m \u001b[38;5;28mprint\u001b[39m(\u001b[43ma\u001b[49m\u001b[38;5;241;43m+\u001b[39;49m\u001b[43md\u001b[49m)\n",
      "\u001b[1;31mTypeError\u001b[0m: unsupported operand type(s) for +: 'int' and 'str'"
     ]
    }
   ],
   "source": [
    "a=10\n",
    "b=20\n",
    "c=30.5\n",
    "d=\"Rahul\"\n",
    "print(a+b)\n",
    "print(a+d)"
   ]
  },
  {
   "cell_type": "code",
   "execution_count": 3,
   "id": "8508206e-c63d-489c-951f-cd7e99024ecb",
   "metadata": {},
   "outputs": [
    {
     "name": "stdout",
     "output_type": "stream",
     "text": [
      "rahulrahulrahulrahulrahulrahulrahulrahulrahulrahul\n"
     ]
    }
   ],
   "source": [
    "print(\"rahul\"*10)"
   ]
  },
  {
   "cell_type": "code",
   "execution_count": 4,
   "id": "1e32451e-5176-432b-8d63-b74668903f75",
   "metadata": {},
   "outputs": [
    {
     "name": "stdout",
     "output_type": "stream",
     "text": [
      "205.0\n",
      "tentententententententententen\n"
     ]
    }
   ],
   "source": [
    "a=10\n",
    "b=20.5\n",
    "c=\"ten\"\n",
    "print(a*b)\n",
    "print(a*c)"
   ]
  },
  {
   "cell_type": "code",
   "execution_count": 7,
   "id": "43195645-68af-4d4f-8454-99a6f6244b18",
   "metadata": {},
   "outputs": [
    {
     "name": "stdout",
     "output_type": "stream",
     "text": [
      "True\n",
      "False\n",
      "True\n"
     ]
    }
   ],
   "source": [
    "ename=\"Rahul\"\n",
    "enames=[\"Rahul\",\"Sonia\",\"Priyanka\",\"Modi\"]\n",
    "t=(10,20,30,40,50)\n",
    "s={101,102,103,104}\n",
    "\n",
    "print(\"Rahul\" in enames)\n",
    "print(100 in s)\n",
    "print(100 not in s)"
   ]
  },
  {
   "cell_type": "code",
   "execution_count": 8,
   "id": "6cd2cea0-9c02-4bfc-a546-8e047a347e94",
   "metadata": {},
   "outputs": [
    {
     "name": "stdout",
     "output_type": "stream",
     "text": [
      "<class 'dict'>\n",
      "True\n",
      "False\n"
     ]
    }
   ],
   "source": [
    "emp={'id':101,'name':'Rahul', 'sal':45000.00} #membership operator checks if the element is present in the sequence or not\n",
    "print(type(emp))\n",
    "print('id' in emp)\n",
    "print('rahul' in emp)"
   ]
  },
  {
   "cell_type": "code",
   "execution_count": 9,
   "id": "c9abd0a6-947d-4698-abbd-977a415f8599",
   "metadata": {},
   "outputs": [
    {
     "name": "stdout",
     "output_type": "stream",
     "text": [
      "140703386503896\n",
      "140703386504216\n",
      "140703386503896\n"
     ]
    }
   ],
   "source": [
    "a=10  #returning the address of the object\n",
    "b=20\n",
    "c=10\n",
    "print(id(a))\n",
    "print(id(b))\n",
    "print(id(c))"
   ]
  },
  {
   "cell_type": "code",
   "execution_count": 10,
   "id": "0ee8d6c6-932c-4b73-8642-ddf8ab6a52c8",
   "metadata": {},
   "outputs": [
    {
     "name": "stdout",
     "output_type": "stream",
     "text": [
      "False\n",
      "True\n"
     ]
    }
   ],
   "source": [
    "a=10  #checking the address of the object using identity operators\n",
    "b=20\n",
    "c=10\n",
    "print(a is b)\n",
    "print(a is c)"
   ]
  },
  {
   "cell_type": "code",
   "execution_count": 13,
   "id": "42ed25d2-53ee-4a58-9e2f-18f4eca1407a",
   "metadata": {},
   "outputs": [
    {
     "name": "stdout",
     "output_type": "stream",
     "text": [
      "False\n",
      "True\n"
     ]
    }
   ],
   "source": [
    "r=range(100,1000)\n",
    "print(10 in r)\n",
    "print (500 in r)"
   ]
  },
  {
   "cell_type": "code",
   "execution_count": null,
   "id": "2cca688b-a5ff-48ff-847a-71a50dfb5bd9",
   "metadata": {},
   "outputs": [],
   "source": []
  }
 ],
 "metadata": {
  "kernelspec": {
   "display_name": "Python 3 (ipykernel)",
   "language": "python",
   "name": "python3"
  },
  "language_info": {
   "codemirror_mode": {
    "name": "ipython",
    "version": 3
   },
   "file_extension": ".py",
   "mimetype": "text/x-python",
   "name": "python",
   "nbconvert_exporter": "python",
   "pygments_lexer": "ipython3",
   "version": "3.12.5"
  }
 },
 "nbformat": 4,
 "nbformat_minor": 5
}
