{
 "cells": [
  {
   "cell_type": "code",
   "execution_count": 19,
   "id": "c2c3d6a3-29a7-4ec1-89c9-86608bdc797b",
   "metadata": {},
   "outputs": [
    {
     "name": "stdin",
     "output_type": "stream",
     "text": [
      "enter salary: 2000000\n"
     ]
    },
    {
     "name": "stdout",
     "output_type": "stream",
     "text": [
      "eligible for M\n"
     ]
    }
   ],
   "source": [
    "sal=int(input(\"enter salary:\"))\n",
    "if sal>40000:\n",
    "     print(\"eligible for M\")\n",
    "else:\n",
    "     print(\"not eligible\")"
   ]
  },
  {
   "cell_type": "code",
   "execution_count": 18,
   "id": "ccd66d5c-e518-4e8d-87cc-01524a62f40f",
   "metadata": {},
   "outputs": [
    {
     "name": "stdin",
     "output_type": "stream",
     "text": [
      "enter the number: 500\n"
     ]
    },
    {
     "name": "stdout",
     "output_type": "stream",
     "text": [
      "is a three digit number\n"
     ]
    }
   ],
   "source": [
    "#check if the given number is a three digit number\n",
    "num=int(input(\"enter the number:\"))\n",
    "if num>=100 and num<=999:\n",
    "    print(\"is a three digit number\")\n",
    "else:\n",
    "    print(\"is not a three digit number\")"
   ]
  },
  {
   "cell_type": "code",
   "execution_count": 21,
   "id": "2b7fd00b-0c8f-4a92-b8cb-4c656ae10c4d",
   "metadata": {},
   "outputs": [
    {
     "name": "stdin",
     "output_type": "stream",
     "text": [
      "enter a number 400\n"
     ]
    },
    {
     "name": "stdout",
     "output_type": "stream",
     "text": [
      "is a three digit number\n"
     ]
    }
   ],
   "source": [
    "#elif\n",
    "num=int(input(\"enter a number\"))\n",
    "if num>=100 and num<=999:\n",
    "    print(\"is a three digit number\")\n",
    "else if:\n",
    "    \n",
    "else:\n",
    "    print(\"is not a three digit number\")"
   ]
  },
  {
   "cell_type": "code",
   "execution_count": 28,
   "id": "efaa0119-f741-4027-85ac-c9213d7c7fa6",
   "metadata": {},
   "outputs": [
    {
     "name": "stdout",
     "output_type": "stream",
     "text": [
      "10\n",
      "20\n",
      "30\n",
      "40\n",
      "Rahul\n",
      "Sonia\n",
      "priya\n",
      "104\n",
      "101\n",
      "102\n",
      "103\n",
      "id\n",
      "name\n",
      "sal\n",
      "5\n",
      "10\n",
      "15\n",
      "20\n",
      "25\n",
      "30\n",
      "35\n",
      "40\n",
      "45\n"
     ]
    }
   ],
   "source": [
    "  #for in\n",
    "ename='Rahul'                    #string\n",
    "enames=['Rahul','Sonia','priya'] #list\n",
    "t=(10,20,30,40)            #tuple\n",
    "eids={101,102,103,104}    #set\n",
    "emp={'id':101,            #dict\n",
    "     'name':'Raj',\n",
    "     'sal':45000}\n",
    "range(5,50,5)             #range\n",
    "\n",
    "\n",
    "for ele in t:\n",
    "    print(ele)\n",
    "    pass\n",
    "for ename in enames:\n",
    "    print(ename)\n",
    "for eid in eids:\n",
    "    print(eid)\n",
    "for ele in emp:\n",
    "    print(ele)\n",
    "for ele in range(5,50,5):\n",
    "    print(ele)"
   ]
  },
  {
   "cell_type": "code",
   "execution_count": 30,
   "id": "4695db9c-1828-4753-9300-ad0328803223",
   "metadata": {},
   "outputs": [
    {
     "name": "stdout",
     "output_type": "stream",
     "text": [
      "1\n",
      "2\n",
      "3\n",
      "4\n",
      "5\n",
      "6\n",
      "7\n",
      "8\n",
      "9\n",
      "10\n"
     ]
    }
   ],
   "source": [
    "#print 1-10\n",
    "for ele in range(1,11,1):\n",
    "    print (ele)"
   ]
  },
  {
   "cell_type": "code",
   "execution_count": 32,
   "id": "b7259da9-3830-4901-90e4-0724e71e93a5",
   "metadata": {},
   "outputs": [
    {
     "name": "stdout",
     "output_type": "stream",
     "text": [
      "100\n",
      "99\n",
      "98\n",
      "97\n",
      "96\n",
      "95\n",
      "94\n",
      "93\n",
      "92\n",
      "91\n",
      "90\n",
      "89\n",
      "88\n",
      "87\n",
      "86\n",
      "85\n",
      "84\n",
      "83\n",
      "82\n",
      "81\n",
      "80\n",
      "79\n",
      "78\n",
      "77\n",
      "76\n",
      "75\n",
      "74\n",
      "73\n",
      "72\n",
      "71\n",
      "70\n",
      "69\n",
      "68\n",
      "67\n",
      "66\n",
      "65\n",
      "64\n",
      "63\n",
      "62\n",
      "61\n",
      "60\n",
      "59\n",
      "58\n",
      "57\n",
      "56\n",
      "55\n",
      "54\n",
      "53\n",
      "52\n",
      "51\n"
     ]
    }
   ],
   "source": [
    "#print 100-51\n",
    "for ele in range(100,50,-1):\n",
    "    print(ele)\n",
    "    "
   ]
  },
  {
   "cell_type": "code",
   "execution_count": 35,
   "id": "78c21387-2f8e-4195-9190-c6d7bc0443f6",
   "metadata": {},
   "outputs": [
    {
     "name": "stdout",
     "output_type": "stream",
     "text": [
      "5 * 1 = 5\n",
      "5 * 2 = 10\n",
      "5 * 3 = 15\n",
      "5 * 4 = 20\n",
      "5 * 5 = 25\n",
      "5 * 6 = 30\n",
      "5 * 7 = 35\n",
      "5 * 8 = 40\n",
      "5 * 9 = 45\n",
      "5 * 10 = 50\n"
     ]
    }
   ],
   "source": [
    "#5 table\n",
    "for i in range(1,11):\n",
    "    print(5,'*',i,'=',5*i)"
   ]
  },
  {
   "cell_type": "code",
   "execution_count": 44,
   "id": "03c2844b-2bfa-4e4a-a861-210b9bb460d0",
   "metadata": {},
   "outputs": [
    {
     "name": "stdout",
     "output_type": "stream",
     "text": [
      "0\t2\t4\t6\t8\t10\t12\t14\t16\t18\t"
     ]
    }
   ],
   "source": [
    "#print first 10 even nos\n",
    "for x in range(0,19,2):\n",
    "    print (x, end=\"\\t\")"
   ]
  },
  {
   "cell_type": "code",
   "execution_count": 57,
   "id": "fabf495e-1c63-45ee-ae5e-dbb78251058e",
   "metadata": {},
   "outputs": [
    {
     "name": "stdout",
     "output_type": "stream",
     "text": [
      "id : 101\n",
      "name : Raj\n",
      "sal : 45000\n"
     ]
    }
   ],
   "source": [
    "#dict\n",
    "emp={'id':101,            \n",
    "     'name':'Raj',\n",
    "     'sal':45000}\n",
    "for key,value in emp.items():\n",
    "    print(key,':',value)\n",
    "    "
   ]
  },
  {
   "cell_type": "code",
   "execution_count": null,
   "id": "adc373af-3a26-43a2-bd15-0b5502200574",
   "metadata": {},
   "outputs": [],
   "source": []
  }
 ],
 "metadata": {
  "kernelspec": {
   "display_name": "Python 3 (ipykernel)",
   "language": "python",
   "name": "python3"
  },
  "language_info": {
   "codemirror_mode": {
    "name": "ipython",
    "version": 3
   },
   "file_extension": ".py",
   "mimetype": "text/x-python",
   "name": "python",
   "nbconvert_exporter": "python",
   "pygments_lexer": "ipython3",
   "version": "3.12.5"
  }
 },
 "nbformat": 4,
 "nbformat_minor": 5
}
