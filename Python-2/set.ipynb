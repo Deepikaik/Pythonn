{
 "cells": [
  {
   "cell_type": "code",
   "execution_count": 2,
   "id": "2050f40c-1101-4421-ae0f-408dd79e3325",
   "metadata": {},
   "outputs": [
    {
     "name": "stdout",
     "output_type": "stream",
     "text": [
      "{1, 2, 3}\n",
      "<class 'set'>\n",
      "<class 'dict'>\n"
     ]
    }
   ],
   "source": [
    "s={1,2,3}\n",
    "d={}\n",
    "print(s)\n",
    "print(type(s))\n",
    "print(type(d))"
   ]
  },
  {
   "cell_type": "code",
   "execution_count": 3,
   "id": "56419692-082f-452e-b6e0-8681f8bedb3c",
   "metadata": {},
   "outputs": [
    {
     "name": "stdout",
     "output_type": "stream",
     "text": [
      "{10, 20, 30, 'Rahul'}\n"
     ]
    }
   ],
   "source": [
    "S={10,10,10,20,30,\"Rahul\"}        #indexing is not applicable hence the random order\n",
    "print(S)"
   ]
  },
  {
   "cell_type": "code",
   "execution_count": 4,
   "id": "d42bb51a-ac88-4b52-87c5-4b999bda239f",
   "metadata": {},
   "outputs": [
    {
     "name": "stdout",
     "output_type": "stream",
     "text": [
      "{40, 10, 20, 30}\n"
     ]
    }
   ],
   "source": [
    "S={10,10,10,20,30,40,30,40}    #duplicate is not allowed\n",
    "print(S)"
   ]
  },
  {
   "cell_type": "code",
   "execution_count": 5,
   "id": "b0b8b424-9651-46e6-98fb-df1290c97804",
   "metadata": {},
   "outputs": [
    {
     "name": "stdout",
     "output_type": "stream",
     "text": [
      "{'Rahul', 101, 102, 103, 104}\n"
     ]
    }
   ],
   "source": [
    "eids={101,102,103,104,\"Rahul\",\"Rahul\",101,102,103,104}\n",
    "print(eids)"
   ]
  },
  {
   "cell_type": "code",
   "execution_count": 8,
   "id": "18b3f472-57c7-40f0-a7c1-57008e61f35c",
   "metadata": {},
   "outputs": [
    {
     "name": "stdout",
     "output_type": "stream",
     "text": [
      "104\n",
      "101\n",
      "102\n",
      "103\n"
     ]
    }
   ],
   "source": [
    "eids={101,103,102,104}\n",
    "for eid in eids:\n",
    "    print(eid)"
   ]
  },
  {
   "cell_type": "code",
   "execution_count": 10,
   "id": "b0bf54f1-7fe8-491d-982a-db935585a9ee",
   "metadata": {},
   "outputs": [
    {
     "name": "stdout",
     "output_type": "stream",
     "text": [
      "{70, 40, 10, 80, 50, 20, 60, 30}\n",
      "{80, 50, 60, 70}\n"
     ]
    }
   ],
   "source": [
    "S1={10,20,30,40}\n",
    "S2={50,60,70,80}\n",
    "S1.update(S2)\n",
    "print(S1)\n",
    "print(S2)"
   ]
  },
  {
   "cell_type": "code",
   "execution_count": 11,
   "id": "6a4cd4a3-5efc-4669-92be-b4feac024f0a",
   "metadata": {},
   "outputs": [
    {
     "name": "stdout",
     "output_type": "stream",
     "text": [
      "{0, 1, 2, 3, 4, 5, 6, 7, 40, 8, 10, 9, 100, 200, 300, 400, 20, 30}\n"
     ]
    }
   ],
   "source": [
    "S1={10,20,30,40}\n",
    "r=range(10)\n",
    "l=[100,200,300,400]\n",
    "t=(1,2,3,4)\n",
    "S1.update(r,l,t)\n",
    "print(S1)"
   ]
  },
  {
   "cell_type": "code",
   "execution_count": 12,
   "id": "72a1018a-5eb6-44d8-8013-2e79dea05713",
   "metadata": {},
   "outputs": [
    {
     "name": "stdout",
     "output_type": "stream",
     "text": [
      "{'a', 'R', 'h', 40, 10, 20, 'l', 'u', 30}\n"
     ]
    }
   ],
   "source": [
    "S1={10,20,30,40}\n",
    "S1.update(\"Rahul\")\n",
    "print(S1)"
   ]
  },
  {
   "cell_type": "code",
   "execution_count": 3,
   "id": "b7dee60a-1f01-4c0a-86ce-4fb74e5f0a8b",
   "metadata": {},
   "outputs": [
    {
     "name": "stdout",
     "output_type": "stream",
     "text": [
      "{20, 70, 40, 10, 60, 30}\n"
     ]
    }
   ],
   "source": [
    "S1={10,20,30,40,50,60,70}\n",
    "S1.pop()\n",
    "print(S1)"
   ]
  },
  {
   "cell_type": "code",
   "execution_count": 5,
   "id": "28cc287e-767d-4c9e-9f2b-775ffd8b6069",
   "metadata": {},
   "outputs": [
    {
     "name": "stdout",
     "output_type": "stream",
     "text": [
      "{50, 20, 70, 10, 60, 30}\n"
     ]
    },
    {
     "ename": "KeyError",
     "evalue": "80",
     "output_type": "error",
     "traceback": [
      "\u001b[1;31m---------------------------------------------------------------------------\u001b[0m",
      "\u001b[1;31mKeyError\u001b[0m                                  Traceback (most recent call last)",
      "Cell \u001b[1;32mIn[5], line 4\u001b[0m\n\u001b[0;32m      2\u001b[0m S1\u001b[38;5;241m.\u001b[39mremove(\u001b[38;5;241m40\u001b[39m)\n\u001b[0;32m      3\u001b[0m \u001b[38;5;28mprint\u001b[39m(S1)\n\u001b[1;32m----> 4\u001b[0m \u001b[43mS1\u001b[49m\u001b[38;5;241;43m.\u001b[39;49m\u001b[43mremove\u001b[49m\u001b[43m(\u001b[49m\u001b[38;5;241;43m80\u001b[39;49m\u001b[43m)\u001b[49m\n\u001b[0;32m      5\u001b[0m \u001b[38;5;28mprint\u001b[39m(S1)\n",
      "\u001b[1;31mKeyError\u001b[0m: 80"
     ]
    }
   ],
   "source": [
    "S1={10,20,30,40,50,60,70}\n",
    "S1.remove(40)\n",
    "print(S1)\n",
    "S1.remove(80)       #error if element is not present\n",
    "print(S1)"
   ]
  },
  {
   "cell_type": "code",
   "execution_count": 7,
   "id": "8f39ca2a-7c0c-4fd2-8343-1c4ed591fd7e",
   "metadata": {},
   "outputs": [
    {
     "name": "stdout",
     "output_type": "stream",
     "text": [
      "{50, 20, 70, 10, 60, 30}\n",
      "{50, 20, 70, 10, 60, 30}\n"
     ]
    }
   ],
   "source": [
    "S1={10,20,30,40,50,60,70}\n",
    "S1.discard(40)\n",
    "print(S1)\n",
    "S1.discard(80)    #no error if element is not present\n",
    "print(S1)"
   ]
  },
  {
   "cell_type": "code",
   "execution_count": 8,
   "id": "b9e8c7f6-b93d-46ca-8240-85af882ac37f",
   "metadata": {},
   "outputs": [
    {
     "name": "stdout",
     "output_type": "stream",
     "text": [
      "set()\n"
     ]
    }
   ],
   "source": [
    "S1={10,20,30,40,50,60,70}\n",
    "S1.clear()\n",
    "print(S1)"
   ]
  },
  {
   "cell_type": "code",
   "execution_count": 15,
   "id": "c58ec1f7-ee5d-4aaf-88fe-4a31877193ca",
   "metadata": {},
   "outputs": [
    {
     "name": "stdout",
     "output_type": "stream",
     "text": [
      "{40, 10, 50, 20, 60, 30}\n",
      "{40, 10, 50, 20, 60, 30}\n"
     ]
    }
   ],
   "source": [
    "s1={10,20,30,40}\n",
    "s2={30,40,50,60}\n",
    "print(s1.union(s2))\n",
    "print(s1|s2)          #can use either the method or the operator"
   ]
  },
  {
   "cell_type": "code",
   "execution_count": 16,
   "id": "6cb92f24-769e-4607-ae75-4ec7be2ed278",
   "metadata": {},
   "outputs": [
    {
     "name": "stdout",
     "output_type": "stream",
     "text": [
      "{40, 30}\n",
      "{40, 30}\n"
     ]
    }
   ],
   "source": [
    "s1={10,20,30,40}\n",
    "s2={30,40,50,60}\n",
    "print(s1.intersection(s2))\n",
    "print(s1 &s2)           #can use either the method or the operator"
   ]
  },
  {
   "cell_type": "code",
   "execution_count": 19,
   "id": "975b5a19-0454-4f06-b012-6734e9203c55",
   "metadata": {},
   "outputs": [
    {
     "name": "stdout",
     "output_type": "stream",
     "text": [
      "{10, 20}\n",
      "{10, 20}\n"
     ]
    }
   ],
   "source": [
    "s1={10,20,30,40}\n",
    "s2={30,40,50,60}\n",
    "print(s1.difference(s2))\n",
    "print(s1-s2)            #can use either the method or the operator"
   ]
  },
  {
   "cell_type": "code",
   "execution_count": 23,
   "id": "e0dc1017-8266-406a-bcae-05ff7a130de9",
   "metadata": {},
   "outputs": [
    {
     "name": "stdout",
     "output_type": "stream",
     "text": [
      "{10, 50, 20, 60}\n",
      "{10, 50, 20, 60}\n"
     ]
    }
   ],
   "source": [
    "s1={10,20,30,40}\n",
    "s2={30,40,50,60}\n",
    "print(s1.symmetric_difference(s2))\n",
    "print(s1^s2)             #can use either the method or the operator"
   ]
  },
  {
   "cell_type": "code",
   "execution_count": null,
   "id": "1c5ec36b-7b82-4697-bc01-438486636ac3",
   "metadata": {},
   "outputs": [],
   "source": []
  }
 ],
 "metadata": {
  "kernelspec": {
   "display_name": "Python 3 (ipykernel)",
   "language": "python",
   "name": "python3"
  },
  "language_info": {
   "codemirror_mode": {
    "name": "ipython",
    "version": 3
   },
   "file_extension": ".py",
   "mimetype": "text/x-python",
   "name": "python",
   "nbconvert_exporter": "python",
   "pygments_lexer": "ipython3",
   "version": "3.12.5"
  }
 },
 "nbformat": 4,
 "nbformat_minor": 5
}
