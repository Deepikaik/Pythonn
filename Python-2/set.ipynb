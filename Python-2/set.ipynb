{
 "cells": [
  {
   "cell_type": "code",
   "execution_count": 2,
   "id": "2050f40c-1101-4421-ae0f-408dd79e3325",
   "metadata": {},
   "outputs": [
    {
     "name": "stdout",
     "output_type": "stream",
     "text": [
      "{1, 2, 3}\n",
      "<class 'set'>\n",
      "<class 'dict'>\n"
     ]
    }
   ],
   "source": [
    "s={1,2,3}\n",
    "d={}\n",
    "print(s)\n",
    "print(type(s))\n",
    "print(type(d))"
   ]
  },
  {
   "cell_type": "code",
   "execution_count": 3,
   "id": "56419692-082f-452e-b6e0-8681f8bedb3c",
   "metadata": {},
   "outputs": [
    {
     "name": "stdout",
     "output_type": "stream",
     "text": [
      "{10, 20, 30, 'Rahul'}\n"
     ]
    }
   ],
   "source": [
    "S={10,10,10,20,30,\"Rahul\"}        #indexing is not applicable hence the random order\n",
    "print(S)"
   ]
  },
  {
   "cell_type": "code",
   "execution_count": 4,
   "id": "d42bb51a-ac88-4b52-87c5-4b999bda239f",
   "metadata": {},
   "outputs": [
    {
     "name": "stdout",
     "output_type": "stream",
     "text": [
      "{40, 10, 20, 30}\n"
     ]
    }
   ],
   "source": [
    "S={10,10,10,20,30,40,30,40}    #duplicate is not allowed\n",
    "print(S)"
   ]
  },
  {
   "cell_type": "code",
   "execution_count": 5,
   "id": "b0b8b424-9651-46e6-98fb-df1290c97804",
   "metadata": {},
   "outputs": [
    {
     "name": "stdout",
     "output_type": "stream",
     "text": [
      "{'Rahul', 101, 102, 103, 104}\n"
     ]
    }
   ],
   "source": [
    "eids={101,102,103,104,\"Rahul\",\"Rahul\",101,102,103,104}\n",
    "print(eids)"
   ]
  },
  {
   "cell_type": "code",
   "execution_count": 8,
   "id": "18b3f472-57c7-40f0-a7c1-57008e61f35c",
   "metadata": {},
   "outputs": [
    {
     "name": "stdout",
     "output_type": "stream",
     "text": [
      "104\n",
      "101\n",
      "102\n",
      "103\n"
     ]
    }
   ],
   "source": [
    "eids={101,103,102,104}\n",
    "for eid in eids:\n",
    "    print(eid)"
   ]
  },
  {
   "cell_type": "code",
   "execution_count": 10,
   "id": "b0bf54f1-7fe8-491d-982a-db935585a9ee",
   "metadata": {},
   "outputs": [
    {
     "name": "stdout",
     "output_type": "stream",
     "text": [
      "{70, 40, 10, 80, 50, 20, 60, 30}\n",
      "{80, 50, 60, 70}\n"
     ]
    }
   ],
   "source": [
    "S1={10,20,30,40}\n",
    "S2={50,60,70,80}\n",
    "S1.update(S2)\n",
    "print(S1)\n",
    "print(S2)"
   ]
  },
  {
   "cell_type": "code",
   "execution_count": 11,
   "id": "6a4cd4a3-5efc-4669-92be-b4feac024f0a",
   "metadata": {},
   "outputs": [
    {
     "name": "stdout",
     "output_type": "stream",
     "text": [
      "{0, 1, 2, 3, 4, 5, 6, 7, 40, 8, 10, 9, 100, 200, 300, 400, 20, 30}\n"
     ]
    }
   ],
   "source": [
    "S1={10,20,30,40}\n",
    "r=range(10)\n",
    "l=[100,200,300,400]\n",
    "t=(1,2,3,4)\n",
    "S1.update(r,l,t)\n",
    "print(S1)"
   ]
  },
  {
   "cell_type": "code",
   "execution_count": 12,
   "id": "72a1018a-5eb6-44d8-8013-2e79dea05713",
   "metadata": {},
   "outputs": [
    {
     "name": "stdout",
     "output_type": "stream",
     "text": [
      "{'a', 'R', 'h', 40, 10, 20, 'l', 'u', 30}\n"
     ]
    }
   ],
   "source": [
    "S1={10,20,30,40}\n",
    "S1.update(\"Rahul\")\n",
    "print(S1)"
   ]
  },
  {
   "cell_type": "code",
   "execution_count": null,
   "id": "b7dee60a-1f01-4c0a-86ce-4fb74e5f0a8b",
   "metadata": {},
   "outputs": [],
   "source": []
  }
 ],
 "metadata": {
  "kernelspec": {
   "display_name": "Python 3 (ipykernel)",
   "language": "python",
   "name": "python3"
  },
  "language_info": {
   "codemirror_mode": {
    "name": "ipython",
    "version": 3
   },
   "file_extension": ".py",
   "mimetype": "text/x-python",
   "name": "python",
   "nbconvert_exporter": "python",
   "pygments_lexer": "ipython3",
   "version": "3.12.5"
  }
 },
 "nbformat": 4,
 "nbformat_minor": 5
}
