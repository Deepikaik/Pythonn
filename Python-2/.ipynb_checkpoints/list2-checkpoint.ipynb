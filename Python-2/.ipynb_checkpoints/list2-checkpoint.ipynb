{
 "cells": [
  {
   "cell_type": "code",
   "execution_count": 8,
   "id": "b9bdb331-8746-4f2c-b0b1-ce85308a72da",
   "metadata": {},
   "outputs": [
    {
     "name": "stdout",
     "output_type": "stream",
     "text": [
      "[101, 102, 103, 104, 105]\n",
      "[101, 500, 102, 103, 104, 105]\n",
      "[101, 500, 300, 103, 104, 105]\n",
      "[101, 500, 300, 103, 104, 105, 10, 20, 30]\n"
     ]
    }
   ],
   "source": [
    "eids=[101,102,103,104]\n",
    "eids.append(105)           #l.append\n",
    "print(eids)\n",
    "\n",
    "eids.insert(1,500)            #l.insert\n",
    "print(eids)\n",
    "\n",
    "eids[2]=300             #completely replace the no\n",
    "print(eids)\n",
    "\n",
    "l2=[10,20,30]\n",
    "eids.extend(l2)        #extend the list\n",
    "print(eids)"
   ]
  },
  {
   "cell_type": "code",
   "execution_count": 9,
   "id": "a20910b5-a4c8-4fc8-9725-e5200f4da613",
   "metadata": {},
   "outputs": [
    {
     "name": "stdout",
     "output_type": "stream",
     "text": [
      "[10, 50, 30, 40]\n"
     ]
    }
   ],
   "source": [
    "l1=[10,20,30,40]\n",
    "l1[1]=50\n",
    "print(l1)"
   ]
  },
  {
   "cell_type": "code",
   "execution_count": 13,
   "id": "303b1020-dbed-4536-ae93-b9ee04667925",
   "metadata": {},
   "outputs": [
    {
     "name": "stdout",
     "output_type": "stream",
     "text": [
      "['Rahul', 'Sonia', 'Priya', 'modi']\n"
     ]
    }
   ],
   "source": [
    "enames=['Rahul','Sonia','Priya']\n",
    "enames.insert(3,'modi')\n",
    "print(enames)"
   ]
  },
  {
   "cell_type": "code",
   "execution_count": 14,
   "id": "17615eef-650e-443e-86e4-a0d56e117f7e",
   "metadata": {},
   "outputs": [
    {
     "name": "stdout",
     "output_type": "stream",
     "text": [
      "[10, 20, 30, 50, 60, 70]\n"
     ]
    }
   ],
   "source": [
    "l1=[10,20,30]\n",
    "l2=[50,60,70]\n",
    "l1.extend(l2)\n",
    "print(l1)"
   ]
  },
  {
   "cell_type": "code",
   "execution_count": 16,
   "id": "2e3103f9-991e-4de5-a06b-5e22b9ccbb1f",
   "metadata": {},
   "outputs": [
    {
     "name": "stdout",
     "output_type": "stream",
     "text": [
      "[101, 102, 103]\n",
      "104\n"
     ]
    }
   ],
   "source": [
    "eids=[101,102,103,104]\n",
    "x=eids.pop()         #pop returns the removed value if necessary\n",
    "print(eids)\n",
    "print(x)"
   ]
  },
  {
   "cell_type": "code",
   "execution_count": 17,
   "id": "1dbb6ea0-c612-4cc9-bbe8-9b259542a537",
   "metadata": {},
   "outputs": [
    {
     "ename": "TypeError",
     "evalue": "list.remove() takes exactly one argument (0 given)",
     "output_type": "error",
     "traceback": [
      "\u001b[1;31m---------------------------------------------------------------------------\u001b[0m",
      "\u001b[1;31mTypeError\u001b[0m                                 Traceback (most recent call last)",
      "Cell \u001b[1;32mIn[17], line 2\u001b[0m\n\u001b[0;32m      1\u001b[0m eids\u001b[38;5;241m=\u001b[39m[\u001b[38;5;241m101\u001b[39m,\u001b[38;5;241m102\u001b[39m,\u001b[38;5;241m103\u001b[39m,\u001b[38;5;241m104\u001b[39m]\n\u001b[1;32m----> 2\u001b[0m \u001b[43meids\u001b[49m\u001b[38;5;241;43m.\u001b[39;49m\u001b[43mremove\u001b[49m\u001b[43m(\u001b[49m\u001b[43m)\u001b[49m\n",
      "\u001b[1;31mTypeError\u001b[0m: list.remove() takes exactly one argument (0 given)"
     ]
    }
   ],
   "source": [
    "eids=[101,102,103,104]\n",
    "eids.remove()"
   ]
  },
  {
   "cell_type": "code",
   "execution_count": 20,
   "id": "8328cb18-ca43-4349-af88-de650a85aeaf",
   "metadata": {},
   "outputs": [
    {
     "name": "stdout",
     "output_type": "stream",
     "text": [
      "[101, 102, 103]\n",
      "None\n"
     ]
    }
   ],
   "source": [
    "eids=[101,102,103,104]\n",
    "x=eids.remove(104)      #remove does'nt return the removed value\n",
    "print(eids)\n",
    "print(x)"
   ]
  },
  {
   "cell_type": "code",
   "execution_count": 21,
   "id": "62448842-0d0d-47cc-ad02-261df2b497e3",
   "metadata": {},
   "outputs": [
    {
     "ename": "TypeError",
     "evalue": "'builtin_function_or_method' object is not subscriptable",
     "output_type": "error",
     "traceback": [
      "\u001b[1;31m---------------------------------------------------------------------------\u001b[0m",
      "\u001b[1;31mTypeError\u001b[0m                                 Traceback (most recent call last)",
      "Cell \u001b[1;32mIn[21], line 2\u001b[0m\n\u001b[0;32m      1\u001b[0m eids\u001b[38;5;241m=\u001b[39m[\u001b[38;5;241m101\u001b[39m,\u001b[38;5;241m102\u001b[39m,\u001b[38;5;241m103\u001b[39m,\u001b[38;5;241m104\u001b[39m]\n\u001b[1;32m----> 2\u001b[0m x\u001b[38;5;241m=\u001b[39m\u001b[43meids\u001b[49m\u001b[38;5;241;43m.\u001b[39;49m\u001b[43mremove\u001b[49m\u001b[43m[\u001b[49m\u001b[38;5;241;43m1\u001b[39;49m\u001b[43m]\u001b[49m      \u001b[38;5;66;03m#remove does'nt return the removed value\u001b[39;00m\n\u001b[0;32m      3\u001b[0m \u001b[38;5;28mprint\u001b[39m(eids)\n\u001b[0;32m      4\u001b[0m \u001b[38;5;28mprint\u001b[39m(x)\n",
      "\u001b[1;31mTypeError\u001b[0m: 'builtin_function_or_method' object is not subscriptable"
     ]
    }
   ],
   "source": [
    "eids=[101,102,103,104]\n",
    "x=eids.remove[1]      #remove does'nt return the removed value\n",
    "print(eids)\n",
    "print(x)"
   ]
  },
  {
   "cell_type": "code",
   "execution_count": 23,
   "id": "f38a5866-dbbe-4db9-9a27-ca7fcbda21bc",
   "metadata": {},
   "outputs": [
    {
     "name": "stdout",
     "output_type": "stream",
     "text": [
      "[]\n"
     ]
    }
   ],
   "source": [
    "eids=[101,102,103,104]\n",
    "eids.clear()\n",
    "print(eids)"
   ]
  },
  {
   "cell_type": "code",
   "execution_count": 25,
   "id": "f93c7a63-55f5-4b9f-80ef-57464f7bfaa2",
   "metadata": {},
   "outputs": [
    {
     "ename": "NameError",
     "evalue": "name 'eids' is not defined",
     "output_type": "error",
     "traceback": [
      "\u001b[1;31m---------------------------------------------------------------------------\u001b[0m",
      "\u001b[1;31mNameError\u001b[0m                                 Traceback (most recent call last)",
      "Cell \u001b[1;32mIn[25], line 3\u001b[0m\n\u001b[0;32m      1\u001b[0m eids\u001b[38;5;241m=\u001b[39m[\u001b[38;5;241m101\u001b[39m,\u001b[38;5;241m102\u001b[39m,\u001b[38;5;241m103\u001b[39m,\u001b[38;5;241m104\u001b[39m]\n\u001b[0;32m      2\u001b[0m \u001b[38;5;28;01mdel\u001b[39;00m eids\n\u001b[1;32m----> 3\u001b[0m \u001b[38;5;28mprint\u001b[39m(\u001b[43meids\u001b[49m)\n",
      "\u001b[1;31mNameError\u001b[0m: name 'eids' is not defined"
     ]
    }
   ],
   "source": [
    "eids=[101,102,103,104]\n",
    "del eids                #deletes the whole list or sequence\n",
    "print(eids)"
   ]
  },
  {
   "cell_type": "code",
   "execution_count": 27,
   "id": "651bea92-0e44-462c-befc-652e7132ba4e",
   "metadata": {},
   "outputs": [
    {
     "name": "stdout",
     "output_type": "stream",
     "text": [
      "[11, 22, 33, 44, 55, 66]\n"
     ]
    }
   ],
   "source": [
    "l1=[22,11,33,66,44,55]\n",
    "l1.sort()\n",
    "print(l1)"
   ]
  },
  {
   "cell_type": "code",
   "execution_count": 28,
   "id": "e2e950da-c405-4406-8e5b-1009ec71a4dd",
   "metadata": {},
   "outputs": [
    {
     "name": "stdout",
     "output_type": "stream",
     "text": [
      "[66, 55, 44, 33, 22, 11]\n"
     ]
    }
   ],
   "source": [
    "l1=[22,11,33,66,44,55]\n",
    "l1.sort(reverse=True)\n",
    "print(l1)"
   ]
  },
  {
   "cell_type": "code",
   "execution_count": 31,
   "id": "a996d95a-44d9-485d-8c4c-593dbb89af16",
   "metadata": {},
   "outputs": [
    {
     "name": "stdout",
     "output_type": "stream",
     "text": [
      "[22, 11, 33, 66, 44, 55]\n",
      "3\n"
     ]
    }
   ],
   "source": [
    "l1=[22,11,33,66,44,55]\n",
    "#   0  1  2  3  4  5\n",
    "x=l1.index(66)\n",
    "print(l1)\n",
    "print(x)"
   ]
  },
  {
   "cell_type": "code",
   "execution_count": 36,
   "id": "68af47c7-ba03-442b-b24c-ecc2ccf26eb4",
   "metadata": {},
   "outputs": [
    {
     "name": "stdout",
     "output_type": "stream",
     "text": [
      "[22, 33, 11, 33, 66, 44, 55, 33]\n",
      "3\n"
     ]
    }
   ],
   "source": [
    "l1=[22,33,11,33,66,44,55,33]\n",
    "x=l1.count(33)\n",
    "print(l1)\n",
    "print(x)"
   ]
  },
  {
   "cell_type": "code",
   "execution_count": 39,
   "id": "6971b5ec-c87b-4394-81f0-463e441e9921",
   "metadata": {},
   "outputs": [
    {
     "name": "stdout",
     "output_type": "stream",
     "text": [
      "[22, 11, 33, 66, 44, 55]\n",
      "[22, 11, 33, 66, 44, 55]\n",
      "2739573277888\n",
      "2739573277888\n"
     ]
    }
   ],
   "source": [
    "l1=[22,11,33,66,44,55]\n",
    "l2=l1\n",
    "print(l1)            #aliasing the list object\n",
    "print(l2)\n",
    "print(id(l1))\n",
    "print(id(l2))    #address is the same"
   ]
  },
  {
   "cell_type": "code",
   "execution_count": 40,
   "id": "e523b5ce-4324-4d69-98ca-a531b2c53a04",
   "metadata": {},
   "outputs": [
    {
     "name": "stdout",
     "output_type": "stream",
     "text": [
      "[22, 11, 33, 66, 44, 55]\n",
      "2739573285312\n",
      "2739573287360\n"
     ]
    }
   ],
   "source": [
    "l1=[22,11,33,66,44,55]\n",
    "l2=l1.copy()           #copying or cloning the list object\n",
    "print(l2)\n",
    "print(id(l1))\n",
    "print(id(l2))   #address is not the same"
   ]
  },
  {
   "cell_type": "code",
   "execution_count": null,
   "id": "c0f6313c-e44f-4ade-a00b-7df5143947a1",
   "metadata": {},
   "outputs": [],
   "source": []
  }
 ],
 "metadata": {
  "kernelspec": {
   "display_name": "Python 3 (ipykernel)",
   "language": "python",
   "name": "python3"
  },
  "language_info": {
   "codemirror_mode": {
    "name": "ipython",
    "version": 3
   },
   "file_extension": ".py",
   "mimetype": "text/x-python",
   "name": "python",
   "nbconvert_exporter": "python",
   "pygments_lexer": "ipython3",
   "version": "3.12.5"
  }
 },
 "nbformat": 4,
 "nbformat_minor": 5
}
