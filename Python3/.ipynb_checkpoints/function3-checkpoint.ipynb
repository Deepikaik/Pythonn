{
 "cells": [
  {
   "cell_type": "code",
   "execution_count": 6,
   "id": "0b417767-1a80-4ff3-8e31-e5a28fe85085",
   "metadata": {},
   "outputs": [
    {
     "ename": "NameError",
     "evalue": "name 'calc' is not defined",
     "output_type": "error",
     "traceback": [
      "\u001b[1;31m---------------------------------------------------------------------------\u001b[0m",
      "\u001b[1;31mNameError\u001b[0m                                 Traceback (most recent call last)",
      "Cell \u001b[1;32mIn[6], line 1\u001b[0m\n\u001b[1;32m----> 1\u001b[0m \u001b[43mcalc\u001b[49m(\u001b[38;5;241m100\u001b[39m,\u001b[38;5;241m200\u001b[39m)\n\u001b[0;32m      2\u001b[0m calc(\u001b[38;5;241m200\u001b[39m,\u001b[38;5;241m100\u001b[39m)\n",
      "\u001b[1;31mNameError\u001b[0m: name 'calc' is not defined"
     ]
    }
   ],
   "source": [
    "calc(100,200)\n",
    "calc(200,100)"
   ]
  },
  {
   "cell_type": "code",
   "execution_count": 7,
   "id": "a5e3786e-08f3-4010-acca-cd37053f69e4",
   "metadata": {},
   "outputs": [
    {
     "name": "stdout",
     "output_type": "stream",
     "text": [
      "100\n"
     ]
    }
   ],
   "source": [
    "print(a)"
   ]
  },
  {
   "cell_type": "code",
   "execution_count": 8,
   "id": "dfc8b526-00a7-4fad-8c42-60f9a6df082b",
   "metadata": {},
   "outputs": [
    {
     "name": "stdout",
     "output_type": "stream",
     "text": [
      "300\n",
      "300\n"
     ]
    }
   ],
   "source": [
    "def calc(a,b):\n",
    "    print(a+b)\n",
    "\n",
    "calc(100,200)\n",
    "calc(200,100)"
   ]
  },
  {
   "cell_type": "code",
   "execution_count": 9,
   "id": "5a8614f7-1e12-4a5d-a3ff-acd890c63fbc",
   "metadata": {},
   "outputs": [
    {
     "name": "stdout",
     "output_type": "stream",
     "text": [
      "-100\n",
      "100\n"
     ]
    }
   ],
   "source": [
    "def calc(a,b):\n",
    "    print(a-b)\n",
    "\n",
    "calc(100,200)\n",
    "calc(200,100)"
   ]
  },
  {
   "cell_type": "code",
   "execution_count": 10,
   "id": "bf666775-4e6c-44c6-87c1-cb86e11ca871",
   "metadata": {},
   "outputs": [
    {
     "name": "stdout",
     "output_type": "stream",
     "text": [
      "-100\n",
      "-100\n"
     ]
    }
   ],
   "source": [
    "def calc(a,b):\n",
    "    print(a-b)\n",
    "\n",
    "calc(a=100,b=200)\n",
    "calc(b=200,a=100)"
   ]
  },
  {
   "cell_type": "code",
   "execution_count": 11,
   "id": "ea97406d-5b82-4739-8a4e-4dd48af6ecfd",
   "metadata": {},
   "outputs": [
    {
     "name": "stdout",
     "output_type": "stream",
     "text": [
      "60\n"
     ]
    }
   ],
   "source": [
    "def calc(a,b,c):\n",
    "    print(a+b+c)\n",
    "\n",
    "\n",
    "calc(10,20,30)\n",
    "#calc(10,20)\n",
    "#calc(1,2)\n"
   ]
  },
  {
   "cell_type": "code",
   "execution_count": 12,
   "id": "66247810-21db-4a33-b328-e91300a299f5",
   "metadata": {},
   "outputs": [
    {
     "name": "stdout",
     "output_type": "stream",
     "text": [
      "60\n",
      "31\n",
      "4\n"
     ]
    }
   ],
   "source": [
    "def calc(a,b,c=1):\n",
    "    print(a+b+c)\n",
    "\n",
    "\n",
    "calc(10,20,30)   #60\n",
    "calc(10,20)      #31 \n",
    "calc(1,2)"
   ]
  },
  {
   "cell_type": "code",
   "execution_count": 13,
   "id": "b064aa0f-a96c-49f3-9f5f-b8c65ca9b2bb",
   "metadata": {},
   "outputs": [
    {
     "ename": "SyntaxError",
     "evalue": "parameter without a default follows parameter with a default (2738109477.py, line 1)",
     "output_type": "error",
     "traceback": [
      "\u001b[1;36m  Cell \u001b[1;32mIn[13], line 1\u001b[1;36m\u001b[0m\n\u001b[1;33m    def calc(a=1,b,c):\u001b[0m\n\u001b[1;37m                 ^\u001b[0m\n\u001b[1;31mSyntaxError\u001b[0m\u001b[1;31m:\u001b[0m parameter without a default follows parameter with a default\n"
     ]
    }
   ],
   "source": [
    "def calc(a=1,b,c):\n",
    "    print(a+b+c)\n",
    "\n",
    "\n",
    "calc(10,20,30)   #60\n",
    "calc(10,20)      #31 \n",
    "calc(1,2)"
   ]
  },
  {
   "cell_type": "code",
   "execution_count": 14,
   "id": "6d8eec8a-941a-4833-a946-c24b715f06c0",
   "metadata": {},
   "outputs": [
    {
     "name": "stdout",
     "output_type": "stream",
     "text": [
      "()\n",
      "(10,)\n",
      "(10, 20)\n",
      "(10, 20, 30)\n",
      "(10, 20, 30, 40)\n",
      "(10, 20, 30, 40, 50)\n"
     ]
    }
   ],
   "source": [
    "def calc(*a):\n",
    "    print(a)\n",
    "    \n",
    "calc()\n",
    "calc(10)\n",
    "calc(10,20)\n",
    "calc(10,20,30)\n",
    "calc(10,20,30,40)\n",
    "calc(10,20,30,40,50)"
   ]
  },
  {
   "cell_type": "code",
   "execution_count": 15,
   "id": "0edc63b8-158c-4722-bb5d-82d8c14667f8",
   "metadata": {},
   "outputs": [
    {
     "name": "stdout",
     "output_type": "stream",
     "text": [
      "100\n",
      "150\n"
     ]
    }
   ],
   "source": [
    "def calc(*a):\n",
    "    print(sum(a))\n",
    "    \n",
    "\n",
    "calc(10,20,30,40)\n",
    "calc(10,20,30,40,50)"
   ]
  },
  {
   "cell_type": "code",
   "execution_count": 16,
   "id": "fd7a86cd-05b3-404c-bbf3-4d5fbe2f7257",
   "metadata": {},
   "outputs": [
    {
     "name": "stdout",
     "output_type": "stream",
     "text": [
      "Outer function\n"
     ]
    },
    {
     "ename": "NameError",
     "evalue": "name 'inner' is not defined",
     "output_type": "error",
     "traceback": [
      "\u001b[1;31m---------------------------------------------------------------------------\u001b[0m",
      "\u001b[1;31mNameError\u001b[0m                                 Traceback (most recent call last)",
      "Cell \u001b[1;32mIn[16], line 9\u001b[0m\n\u001b[0;32m      6\u001b[0m         \u001b[38;5;28mprint\u001b[39m(\u001b[38;5;124m\"\u001b[39m\u001b[38;5;124mInner Function\u001b[39m\u001b[38;5;124m\"\u001b[39m)\n\u001b[0;32m      8\u001b[0m outer()\n\u001b[1;32m----> 9\u001b[0m \u001b[43minner\u001b[49m()\n",
      "\u001b[1;31mNameError\u001b[0m: name 'inner' is not defined"
     ]
    }
   ],
   "source": [
    "#what is inner function?\n",
    "#how to invoeke inner funciton from outside?\n",
    "def outer():\n",
    "    print(\"Outer function\")\n",
    "    def inner():\n",
    "        print(\"Inner Function\")\n",
    "\n",
    "outer()\n",
    "inner()"
   ]
  },
  {
   "cell_type": "code",
   "execution_count": 17,
   "id": "5d008d52-b46b-4432-8a55-ecd7fc5f3afd",
   "metadata": {},
   "outputs": [
    {
     "name": "stdout",
     "output_type": "stream",
     "text": [
      "Outer function\n",
      "Inner Function\n",
      "Inner Function\n"
     ]
    }
   ],
   "source": [
    "def outer():\n",
    "    print(\"Outer function\")\n",
    "    def inner():\n",
    "        print(\"Inner Function\")\n",
    "    inner()\n",
    "    inner()\n",
    "\n",
    "outer()\n",
    "\n"
   ]
  },
  {
   "cell_type": "code",
   "execution_count": 18,
   "id": "5f76ab4c-1357-4545-865d-e5a347c97387",
   "metadata": {},
   "outputs": [
    {
     "name": "stdout",
     "output_type": "stream",
     "text": [
      "Outer function\n",
      "100\n"
     ]
    }
   ],
   "source": [
    "def outer():\n",
    "    print(\"Outer function\")\n",
    "    \n",
    "    def inner():\n",
    "        print(\"Inner Function\")\n",
    "        \n",
    "    return 100\n",
    "\n",
    "value=outer()\n",
    "print(value)"
   ]
  },
  {
   "cell_type": "code",
   "execution_count": 19,
   "id": "8b14a42a-73fa-4b72-a17a-f52e2e7971c5",
   "metadata": {},
   "outputs": [
    {
     "name": "stdout",
     "output_type": "stream",
     "text": [
      "Outer function\n",
      "Inner Function\n",
      "Inner Function\n"
     ]
    }
   ],
   "source": [
    "def outer():\n",
    "    print(\"Outer function\")\n",
    "    \n",
    "    def inner():\n",
    "        print(\"Inner Function\")\n",
    "        \n",
    "    return inner\n",
    "\n",
    "inner=outer()\n",
    "inner()\n",
    "inner()"
   ]
  },
  {
   "cell_type": "code",
   "execution_count": 20,
   "id": "70714404-6f30-45d7-9449-6116a2279afb",
   "metadata": {},
   "outputs": [
    {
     "name": "stdout",
     "output_type": "stream",
     "text": [
      "<class 'int'>\n",
      "<class 'function'>\n"
     ]
    }
   ],
   "source": [
    "a=100\n",
    "def add(a,b):\n",
    "    print(a+b)\n",
    "\n",
    "print(type(a))\n",
    "print(type(add))"
   ]
  },
  {
   "cell_type": "code",
   "execution_count": 21,
   "id": "bf5d57db-f0b7-4be5-a925-75f34d9e07e2",
   "metadata": {},
   "outputs": [
    {
     "name": "stdout",
     "output_type": "stream",
     "text": [
      "<class 'function'>\n"
     ]
    }
   ],
   "source": [
    "add=lambda a,b:a+b\n",
    "print(type(add))"
   ]
  },
  {
   "cell_type": "code",
   "execution_count": 22,
   "id": "fee2c347-78ee-4cea-95ac-49de91c2ca9d",
   "metadata": {},
   "outputs": [
    {
     "name": "stdout",
     "output_type": "stream",
     "text": [
      "30\n"
     ]
    }
   ],
   "source": [
    "def add(a,b):\n",
    "    return a+b\n",
    "\n",
    "r1 = add(10,20)\n",
    "print(r1)"
   ]
  },
  {
   "cell_type": "code",
   "execution_count": 23,
   "id": "dcfca165-a296-48b5-96e6-b97deb65863c",
   "metadata": {},
   "outputs": [
    {
     "name": "stdout",
     "output_type": "stream",
     "text": [
      "30\n"
     ]
    }
   ],
   "source": [
    "add= lambda a,b:a+b\n",
    "\n",
    "r1= add(10,20)\n",
    "print(r1)"
   ]
  },
  {
   "cell_type": "code",
   "execution_count": 24,
   "id": "848d85c8-14c9-4d9d-b95a-98d4748ffaa3",
   "metadata": {},
   "outputs": [
    {
     "name": "stdout",
     "output_type": "stream",
     "text": [
      "36\n"
     ]
    }
   ],
   "source": [
    "def addplus(mark):\n",
    "    return mark+1\n",
    "\n",
    "print(addplus(35))"
   ]
  },
  {
   "cell_type": "code",
   "execution_count": 25,
   "id": "685b7ef7-7e6b-423e-827d-6c5d365448ea",
   "metadata": {},
   "outputs": [
    {
     "name": "stdout",
     "output_type": "stream",
     "text": [
      "<class 'map'>\n",
      "[36, 16, 11]\n"
     ]
    }
   ],
   "source": [
    "def addplus(mark):\n",
    "    return mark+1\n",
    "marks=[35,15,10]\n",
    "\n",
    "#map(function,seq) \n",
    "obj=map(addplus,marks)\n",
    "print(type(obj))\n",
    "print(list(obj))"
   ]
  },
  {
   "cell_type": "code",
   "execution_count": 2,
   "id": "8c91c2cf-4ad8-40b5-94bf-d0296604b941",
   "metadata": {},
   "outputs": [
    {
     "name": "stdout",
     "output_type": "stream",
     "text": [
      "[36, 11, 16]\n"
     ]
    }
   ],
   "source": [
    " print(list(map(lambda m:m+1,[35,10,15])))"
   ]
  },
  {
   "cell_type": "code",
   "execution_count": 6,
   "id": "c0fa8dd1-9500-4566-b3b0-a6ff76839ec4",
   "metadata": {},
   "outputs": [
    {
     "ename": "SyntaxError",
     "evalue": "'[' was never closed (4111380474.py, line 2)",
     "output_type": "error",
     "traceback": [
      "\u001b[1;36m  Cell \u001b[1;32mIn[6], line 2\u001b[1;36m\u001b[0m\n\u001b[1;33m    'products': [\u001b[0m\n\u001b[1;37m                ^\u001b[0m\n\u001b[1;31mSyntaxError\u001b[0m\u001b[1;31m:\u001b[0m '[' was never closed\n"
     ]
    }
   ],
   "source": [
    "product_data={\n",
    "'products': [\n",
    "{\n",
    "'id': 1,\n",
    "'title': 'Essence Mascara Lash Princess',\n",
    "'description': 'The Essence Mascara Lash Princess is a popular mascara known for its volumizing and lengthening effects. Achieve dramatic lashes with this long-lasting and cruelty-free formula.',\n",
    "'category': 'beauty',\n",
    "'price': 9.99,\n",
    "'discountPercentage': 7.17,\n",
    "'rating': 4.94,\n",
    "'stock': 5,\n",
    "'tags': [\n",
    "'beauty',\n",
    "'mascara'\n",
    "],\n",
    "'brand': 'Essence',\n",
    "'sku': 'RCH45Q1A',\n",
    "'weight': 2,\n",
    "'dimensions': {\n",
    "'width': 23.17,\n",
    "'height': 14.43,\n",
    "'depth': 28.01\n",
    "},\n",
    "'warrantyInformation': '1 month warranty',\n",
    "'shippingInformation': 'Ships in 1 month',\n",
    "'availabilityStatus': 'Low Stock',\n",
    "'reviews': [\n",
    "{\n",
    "'rating': 2,\n",
    "'comment': 'Very unhappy with my purchase!',\n",
    "'date': '2024-05-23T08:56:21.618Z',\n",
    "'reviewerName': 'John Doe',\n",
    "'reviewerEmail': 'john.doe@x.dummyjson.com'\n",
    "},\n",
    "{\n",
    "'rating': 2,\n",
    "'comment': 'Not as described!',\n",
    "'date': '2024-05-23T08:56:21.618Z',\n",
    "'reviewerName': 'Nolan Gonzalez',\n",
    "'reviewerEmail': 'nolan.gonzalez@x.dummyjson.com'\n",
    "},\n",
    "{\n",
    "'rating': 5,\n",
    "'comment': 'Very satisfied!',\n",
    "'date': '2024-05-23T08:56:21.618Z',\n",
    "'reviewerName': 'Scarlett Wright',\n",
    "'reviewerEmail': 'scarlett.wright@x.dummyjson.com'\n",
    "}\n",
    "],\n",
    "'returnPolicy': '30 days return policy',\n",
    "'minimumOrderQuantity': 24,\n",
    "'meta': {\n",
    "'createdAt': '2024-05-23T08:56:21.618Z',\n",
    "'updatedAt': '2024-05-23T08:56:21.618Z',\n",
    "'barcode': '9164035109868',\n",
    "'qrCode': 'https://assets.dummyjson.com/public/qr-code.png'\n",
    "},\n",
    "'images': [\n",
    "'https://cdn.dummyjson.com/products/images/beauty/Essence%20Mascara%20Lash%20Princess/1.png'\n",
    "],\n",
    "'thumbnail': 'https://cdn.dummyjson.com/products/images/beauty/Essence%20Mascara%20Lash%20Princess/thumbnail.png'\n",
    "},\n",
    "{\n",
    "'id': 2,\n",
    "'title': 'Eyeshadow Palette with Mirror',\n",
    "'description': 'The Eyeshadow Palette with Mirror offers a versatile range of eyeshadow shades for creating stunning eye looks. With a built-in mirror, its convenient for on-the-go makeup application.',\n",
    "'category': 'beauty',\n",
    "'price': 19.99,\n",
    "'discountPercentage': 5.5,\n",
    "'rating': 3.28,\n",
    "'stock': 44,\n",
    "'tags': [\n",
    "'beauty',\n",
    "'eyeshadow'\n",
    "],\n",
    "'brand': 'Glamour Beauty',\n",
    "'sku': 'MVCFH27F',\n",
    "'weight': 3,\n",
    "'dimensions': {\n",
    "'width': 12.42,\n",
    "'height': 8.63,\n",
    "'depth': 29.13\n",
    "},\n",
    "'warrantyInformation': '1 year warranty',\n",
    "'shippingInformation': 'Ships in 2 weeks',\n",
    "'availabilityStatus': 'In Stock',\n",
    "'reviews': [\n",
    "{\n",
    "'rating': 4,\n",
    "'comment': 'Very satisfied!',\n",
    "'date': '2024-05-23T08:56:21.618Z',\n",
    "'reviewerName': 'Liam Garcia',\n",
    "'reviewerEmail': 'liam.garcia@x.dummyjson.com'\n",
    "},\n",
    "{\n",
    "'rating': 1,\n",
    "'comment': 'Very disappointed!',\n",
    "'date': '2024-05-23T08:56:21.618Z',\n",
    "'reviewerName': 'Nora Russell',\n",
    "'reviewerEmail': 'nora.russell@x.dummyjson.com'\n",
    "},\n",
    "{\n",
    "'rating': 5,\n",
    "'comment': 'Highly impressed!',\n",
    "'date': '2024-05-23T08:56:21.618Z',\n",
    "'reviewerName': 'Elena Baker',\n",
    "'reviewerEmail': 'elena.baker@x.dummyjson.com'\n",
    "}\n",
    "],\n",
    "'returnPolicy': '30 days return policy',\n",
    "'minimumOrderQuantity': 32,\n",
    "'meta': {\n",
    "'createdAt': '2024-05-23T08:56:21.618Z',\n",
    "'updatedAt': '2024-05-23T08:56:21.618Z',\n",
    "'barcode': '2817839095220',\n",
    "'qrCode': 'https://assets.dummyjson.com/public/qr-code.png'\n",
    "},\n",
    "'images': [\n",
    "'https://cdn.dummyjson.com/products/images/beauty/Eyeshadow%20Palette%20with%20Mirror/1.png'\n",
    "],\n",
    "'thumbnail': 'https://cdn.dummyjson.com/products/images/beauty/Eyeshadow%20Palette%20with%20Mirror/thumbnail.png'\n",
    "},\n",
    "{\n",
    "'id': 3,\n",
    "'title': 'Powder Canister',\n",
    "'description': 'The Powder Canister is a finely milled setting powder designed to set makeup and control shine. With a lightweight and translucent formula, it provides a smooth and matte finish.',\n",
    "'category': 'beauty',\n",
    "'price': 14.99,\n",
    "'discountPercentage': 18.14,\n",
    "'rating': 3.82,\n",
    "'stock': 59,\n",
    "'tags': [\n",
    "'beauty',\n",
    "'face powder'\n",
    "],\n",
    "'brand': 'Velvet Touch',\n",
    "'sku': '9EN8WLT2',\n",
    "'weight': 8,\n",
    "'dimensions': {\n",
    "'width': 24.16,\n",
    "'height': 10.7,\n",
    "'depth': 11.07\n",
    "},\n",
    "'warrantyInformation': '2 year warranty',\n",
    "'shippingInformation': 'Ships in 1-2 business days',\n",
    "'availabilityStatus': 'In Stock',\n",
    "'reviews': [\n",
    "{\n",
    "'rating': 5,\n",
    "'comment': 'Very happy with my purchase!',\n",
    "'date': '2024-05-23T08:56:21.618Z',\n",
    "'reviewerName': 'Ethan Thompson',\n",
    "'reviewerEmail': 'ethan.thompson@x.dummyjson.com'\n",
    "},\n",
    "{\n",
    "'rating': 4,\n",
    "'comment': 'Great value for money!',\n",
    "'date': '2024-05-23T08:56:21.618Z',\n",
    "'reviewerName': 'Levi Hicks',\n",
    "'reviewerEmail': 'levi.hicks@x.dummyjson.com'\n",
    "},\n",
    "{\n",
    "'rating': 5,\n",
    "'comment': 'Highly impressed!',\n",
    "'date': '2024-05-23T08:56:21.618Z',\n",
    "'reviewerName': 'Hazel Gardner',\n",
    "'reviewerEmail': 'hazel.gardner@x.dummyjson.com'\n",
    "}\n",
    "],\n",
    "'returnPolicy': '60 days return policy',\n",
    "'minimumOrderQuantity': 25,\n",
    "'meta': {\n",
    "'createdAt': '2024-05-23T08:56:21.618Z',\n",
    "'updatedAt': '2024-05-23T08:56:21.618Z',\n",
    "'barcode': '0516267971277',\n",
    "'qrCode': 'https://assets.dummyjson.com/public/qr-code.png'\n",
    "},\n",
    "'images': [\n",
    "'https://cdn.dummyjson.com/products/images/beauty/Powder%20Canister/1.png'\n",
    "],\n",
    "'thumbnail': 'https://cdn.dummyjson.com/products/images/beauty/Powder%20Canister/thumbnail.png'\n",
    "},\n",
    "{\n",
    "'id': 4,\n",
    "'title': 'Red Lipstick',\n",
    "'description': 'The Red Lipstick is a classic and bold choice for adding a pop of color to your lips. With a creamy and pigmented formula, it provides a vibrant and long-lasting finish.',\n",
    "'category': 'beauty',\n",
    "'price': 12.99,\n",
    "'discountPercentage': 19.03,\n",
    "'rating': 2.51,\n",
    "'stock': 68,\n",
    "'tags': [\n",
    "'beauty',\n",
    "'lipstick'\n",
    "],\n",
    "'brand': 'Chic Cosmetics',\n",
    "'sku': 'O5IF1NTA',\n",
    "'weight': 5,\n",
    "'dimensions': {\n",
    "'width': 14.37,\n",
    "'height': 13.94,\n",
    "'depth': 14.6\n",
    "},\n",
    "'warrantyInformation': 'Lifetime warranty',\n",
    "'shippingInformation': 'Ships in 2 weeks',\n",
    "'availabilityStatus': 'In Stock',\n",
    "'reviews': [\n",
    "{\n",
    "'rating': 5,\n",
    "'comment': 'Great product!',\n",
    "'date': '2024-05-23T08:56:21.619Z',\n",
    "'reviewerName': 'Leo Rivera',\n",
    "'reviewerEmail': 'leo.rivera@x.dummyjson.com'\n",
    "},\n",
    "{\n",
    "'rating': 4,\n",
    "'comment': 'Very pleased!',\n",
    "'date': '2024-05-23T08:56:21.619Z',\n",
    "'reviewerName': 'Oscar Powers',\n",
    "'reviewerEmail': 'oscar.powers@x.dummyjson.com'\n",
    "},\n",
    "{\n",
    "'rating': 5,\n",
    "'comment': 'Very pleased!',\n",
    "'date': '2024-05-23T08:56:21.619Z',\n",
    "'reviewerName': 'Carter Rivera',\n",
    "'reviewerEmail': 'carter.rivera@x.dummyjson.com'\n",
    "}\n",
    "],\n",
    "'returnPolicy': '90 days return policy',\n",
    "'minimumOrderQuantity': 6,\n",
    "'meta': {\n",
    "'createdAt': '2024-05-23T08:56:21.619Z',\n",
    "'updatedAt': '2024-05-23T08:56:21.619Z',\n",
    "'barcode': '9444582199406',\n",
    "'qrCode': 'https://assets.dummyjson.com/public/qr-code.png'\n",
    "},\n",
    "'images': [\n",
    "'https://cdn.dummyjson.com/products/images/beauty/Red%20Lipstick/1.png'\n",
    "],\n",
    "'thumbnail': 'https://cdn.dummyjson.com/products/images/beauty/Red%20Lipstick/thumbnail.png'\n",
    "},\n",
    "{\n",
    "'id': 5,\n",
    "'title': 'Red Nail Polish',\n",
    "'description': 'The Red Nail Polish offers a rich and glossy red hue for vibrant and polished nails. With a quick-drying formula, it provides a salon-quality finish at home.',\n",
    "'category': 'beauty',\n",
    "'price': 8.99,\n",
    "'discountPercentage': 2.46,\n",
    "'rating': 3.91,\n",
    "'stock': 71,\n",
    "'tags': [\n",
    "'beauty',\n",
    "'nail polish'\n",
    "],\n",
    "'brand': 'Nail Couture',\n",
    "'sku': 'YUIIIP4W',\n",
    "'weight': 9,\n",
    "'dimensions': {\n",
    "'width': 8.11,\n",
    "'height': 10.89,\n",
    "'depth': 29.06\n",
    "},\n",
    "'warrantyInformation': '1 year warranty',\n",
    "'shippingInformation': 'Ships in 1 week',\n",
    "'availabilityStatus': 'In Stock',\n",
    "'reviews': [\n",
    "{\n",
    "'rating': 5,\n",
    "'comment': 'Very pleased!',\n",
    "'date': '2024-05-23T08:56:21.619Z',\n",
    "'reviewerName': 'Leo Rivera',\n",
    "'reviewerEmail': 'leo.rivera@x.dummyjson.com'\n",
    "},\n",
    "{\n",
    "'rating': 5,\n",
    "'comment': 'Great product!',\n",
    "'date': '2024-05-23T08:56:21.619Z',\n",
    "'reviewerName': 'Evan Reed',\n",
    "'reviewerEmail': 'evan.reed@x.dummyjson.com'\n",
    "},\n",
    "{\n",
    "'rating': 4,\n",
    "'comment': 'Highly recommended!',\n",
    "'date': '2024-05-23T08:56:21.619Z',\n",
    "'reviewerName': 'Evelyn Sanchez',\n",
    "'reviewerEmail': 'evelyn.sanchez@x.dummyjson.com'\n",
    "}\n",
    "],\n",
    "'returnPolicy': 'No return policy',\n",
    "'minimumOrderQuantity': 46,\n",
    "'meta': {\n",
    "'createdAt': '2024-05-23T08:56:21.619Z',\n",
    "'updatedAt': '2024-05-23T08:56:21.619Z',\n",
    "'barcode': '3212847902461',\n",
    "'qrCode': 'https://assets.dummyjson.com/public/qr-code.png'\n",
    "},\n",
    "'images': [\n",
    "'https://cdn.dummyjson.com/products/images/beauty/Red%20Nail%20Polish/1.png'\n",
    "],\n",
    "'thumbnail': 'https://cdn.dummyjson.com/products/images/beauty/Red%20Nail%20Polish/thumbnail.png'\n",
    "},\n",
    "{\n",
    "'id': 6,\n",
    "'title': 'Calvin Klein CK One',\n",
    "'description': 'CK One by Calvin Klein is a classic unisex fragrance, known for its fresh and clean scent. its a versatile fragrance suitable for everyday wear.',\n",
    "'category': 'fragrances',\n",
    "'price': 49.99,\n",
    "'discountPercentage': 0.32,\n",
    "'rating': 4.85,\n",
    "'stock': 17,\n",
    "'tags': [\n",
    "'fragrances',\n",
    "'perfumes'\n",
    "],\n",
    "'brand': 'Calvin Klein',\n",
    "'sku': 'DZM2JQZE',\n",
    "'weight': 5,\n",
    "'dimensions': {\n",
    "'width': 11.53,\n",
    "'height': 14.44,\n",
    "'depth': 6.81\n",
    "},\n",
    "'warrantyInformation': '5 year warranty',\n",
    "'shippingInformation': 'Ships overnight',\n",
    "'availabilityStatus': 'In Stock',\n",
    "'reviews': [\n",
    "{\n",
    "'rating': 5,\n",
    "'comment': 'Great value for money!',\n",
    "'date': '2024-05-23T08:56:21.619Z',\n",
    "'reviewerName': 'Sophia Brown',\n",
    "'reviewerEmail': 'sophia.brown@x.dummyjson.com'\n",
    "},\n",
    "{\n",
    "'rating': 3,\n",
    "'comment': 'Very disappointed!',\n",
    "'date': '2024-05-23T08:56:21.619Z',\n",
    "'reviewerName': 'Madison Collins',\n",
    "'reviewerEmail': 'madison.collins@x.dummyjson.com'\n",
    "},\n",
    "{\n",
    "'rating': 1,\n",
    "'comment': 'Poor quality!',\n",
    "'date': '2024-05-23T08:56:21.619Z',\n",
    "'reviewerName': 'Maya Reed',\n",
    "'reviewerEmail': 'maya.reed@x.dummyjson.com'\n",
    "}\n",
    "],\n",
    "'returnPolicy': 'No return policy',\n",
    "'minimumOrderQuantity': 20,\n",
    "'meta': {\n",
    "'createdAt': '2024-05-23T08:56:21.619Z',\n",
    "'updatedAt': '2024-05-23T08:56:21.619Z',\n",
    "'barcode': '2210136215089',\n",
    "'qrCode': 'https://assets.dummyjson.com/public/qr-code.png'\n",
    "},\n",
    "'images': [\n",
    "'https://cdn.dummyjson.com/products/images/fragrances/Calvin%20Klein%20CK%20One/1.png',\n",
    "'https://cdn.dummyjson.com/products/images/fragrances/Calvin%20Klein%20CK%20One/2.png',\n",
    "'https://cdn.dummyjson.com/products/images/fragrances/Calvin%20Klein%20CK%20One/3.png'\n",
    "],\n",
    "'thumbnail': 'https://cdn.dummyjson.com/products/images/fragrances/Calvin%20Klein%20CK%20One/thumbnail.png'\n",
    "},\n",
    "{\n",
    "'id': 7,\n",
    "'title': 'Chanel Coco Noir Eau De',\n",
    "'description': 'Coco Noir by Chanel is an elegant and mysterious fragrance, featuring notes of grapefruit, rose, and sandalwood. Perfect for evening occasions.',\n",
    "'category': 'fragrances',\n",
    "'price': 129.99,\n",
    "'discountPercentage': 18.64,\n",
    "'rating': 2.76,\n",
    "'stock': 41,\n",
    "'tags': [\n",
    "'fragrances',\n",
    "'perfumes'\n",
    "],\n",
    "'brand': 'Chanel',\n",
    "'sku': 'K71HBCGS',\n",
    "'weight': 4,\n",
    "'dimensions': {\n",
    "'width': 21.27,\n",
    "'height': 28,\n",
    "'depth': 11.89\n",
    "},\n",
    "'warrantyInformation': '1 week warranty',\n",
    "'shippingInformation': 'Ships in 1 month',\n",
    "'availabilityStatus': 'In Stock',\n",
    "'reviews': [\n",
    "{\n",
    "'rating': 1,\n",
    "'comment': 'Disappointing product!',\n",
    "'date': '2024-05-23T08:56:21.619Z',\n",
    "'reviewerName': 'Lincoln Kelly',\n",
    "'reviewerEmail': 'lincoln.kelly@x.dummyjson.com'\n",
    "},\n",
    "{\n",
    "'rating': 4,\n",
    "'comment': 'Great product!',\n",
    "'date': '2024-05-23T08:56:21.619Z',\n",
    "'reviewerName': 'Lincoln Kelly',\n",
    "'reviewerEmail': 'lincoln.kelly@x.dummyjson.com'\n",
    "},\n",
    "{\n",
    "'rating': 4,\n",
    "'comment': 'Excellent quality!',\n",
    "'date': '2024-05-23T08:56:21.619Z',\n",
    "'reviewerName': 'Lucas Allen',\n",
    "'reviewerEmail': 'lucas.allen@x.dummyjson.com'\n",
    "}\n",
    "],\n",
    "'returnPolicy': '60 days return policy',\n",
    "'minimumOrderQuantity': 5,\n",
    "'meta': {\n",
    "'createdAt': '2024-05-23T08:56:21.619Z',\n",
    "'updatedAt': '2024-05-23T08:56:21.619Z',\n",
    "'barcode': '1435582999795',\n",
    "'qrCode': 'https://assets.dummyjson.com/public/qr-code.png'\n",
    "},\n",
    "'images': [\n",
    "'https://cdn.dummyjson.com/products/images/fragrances/Chanel%20Coco%20Noir%20Eau%20De/1.png',\n",
    "'https://cdn.dummyjson.com/products/images/fragrances/Chanel%20Coco%20Noir%20Eau%20De/2.png',\n",
    "'https://cdn.dummyjson.com/products/images/fragrances/Chanel%20Coco%20Noir%20Eau%20De/3.png'\n",
    "],\n",
    "'thumbnail': 'https://cdn.dummyjson.com/products/images/fragrances/Chanel%20Coco%20Noir%20Eau%20De/thumbnail.png'\n",
    "},\n",
    "{\n",
    "'id': 8,\n",
    "'title': 'Dior Jadore',\n",
    "'description': 'Jadore by Dior is a luxurious and floral fragrance, known for its blend of ylang-ylang, rose, and jasmine. It embodies femininity and sophistication.',\n",
    "'category': 'fragrances',\n",
    "'price': 89.99,\n",
    "'discountPercentage': 17.44,\n",
    "'rating': 3.31,\n",
    "'stock': 91,\n",
    "'tags': [\n",
    "'fragrances',\n",
    "'perfumes'\n",
    "],\n",
    "'brand': 'Dior',\n",
    "'sku': 'E70NB03B',\n",
    "'weight': 10,\n",
    "'dimensions': {\n",
    "'width': 21.51,\n",
    "'height': 7,\n",
    "'depth': 26.51\n",
    "},\n",
    "'warrantyInformation': 'Lifetime warranty',\n",
    "'shippingInformation': 'Ships in 2 weeks',\n",
    "'availabilityStatus': 'In Stock',\n",
    "'reviews': [\n",
    "{\n",
    "'rating': 5,\n",
    "'comment': 'Fast shipping!',\n",
    "'date': '2024-05-23T08:56:21.619Z',\n",
    "'reviewerName': 'Zoe Nicholson',\n",
    "'reviewerEmail': 'zoe.nicholson@x.dummyjson.com'\n",
    "},\n",
    "{\n",
    "'rating': 4,\n",
    "'comment': 'Excellent quality!',\n",
    "'date': '2024-05-23T08:56:21.619Z',\n",
    "'reviewerName': 'Addison Wright',\n",
    "'reviewerEmail': 'addison.wright@x.dummyjson.com'\n",
    "},\n",
    "{\n",
    "'rating': 4,\n",
    "'comment': 'Would buy again!',\n",
    "'date': '2024-05-23T08:56:21.619Z',\n",
    "'reviewerName': 'Clara Berry',\n",
    "'reviewerEmail': 'clara.berry@x.dummyjson.com'\n",
    "}\n",
    "],\n",
    "'returnPolicy': '7 days return policy',\n",
    "'minimumOrderQuantity': 8,\n",
    "'meta': {\n",
    "'createdAt': '2024-05-23T08:56:21.619Z',\n",
    "'updatedAt': '2024-05-23T08:56:21.619Z',\n",
    "'barcode': '0887083199279',\n",
    "'qrCode': 'https://assets.dummyjson.com/public/qr-code.png'\n",
    "},\n",
    "'images': [\n",
    "'https://cdn.dummyjson.com/products/images/fragrances/Dior%20Jadore/1.png',\n",
    "'https://cdn.dummyjson.com/products/images/fragrances/Dior%20Jadore/2.png',\n",
    "'https://cdn.dummyjson.com/products/images/fragrances/Dior%20Jadore/3.png'\n",
    "],\n",
    "'thumbnail': 'https://cdn.dummyjson.com/products/images/fragrances/Dior%20Jadore/thumbnail.png'\n",
    "}\n",
    "\n",
    "BTproducts=[]\n",
    "for product in product_data['products']:\n",
    "    if product['category']=='beauty':\n",
    "    BTproducts.append(product)"
   ]
  },
  {
   "cell_type": "code",
   "execution_count": 17,
   "id": "c2359216-fa58-4d7e-a57d-eb49fe43d693",
   "metadata": {},
   "outputs": [
    {
     "name": "stdout",
     "output_type": "stream",
     "text": [
      "[4000, 3000]\n",
      "[4000, 3000]\n",
      "[800, 4000, 3000, 2000, 1000]\n"
     ]
    }
   ],
   "source": [
    "prices=[199,99,45,800,4000,3000,2000,1000]\n",
    "newprice=[]\n",
    "\n",
    "for price in prices:\n",
    "    if price>2000:\n",
    "        newprice.append(price)\n",
    "print(newprice)\n",
    "\n",
    "\n",
    "#using filter\n",
    "prices=[199,99,45,800,4000,3000,2000,1000]\n",
    "def newfnc(prices):\n",
    "    return prices>2000\n",
    "newprice1=list(filter(newfnc,prices))\n",
    "print(newprice1)\n",
    "\n",
    "\n",
    "#using filter with lambda\n",
    "prices=[199,99,45,800,4000,3000,2000,1000]\n",
    "newprice1=list(filter(lambda prices:prices>200,prices))\n",
    "print(newprice1)\n"
   ]
  },
  {
   "cell_type": "code",
   "execution_count": null,
   "id": "f388c729-d868-4490-917c-2d6e4f02280b",
   "metadata": {},
   "outputs": [],
   "source": []
  }
 ],
 "metadata": {
  "kernelspec": {
   "display_name": "Python 3 (ipykernel)",
   "language": "python",
   "name": "python3"
  },
  "language_info": {
   "codemirror_mode": {
    "name": "ipython",
    "version": 3
   },
   "file_extension": ".py",
   "mimetype": "text/x-python",
   "name": "python",
   "nbconvert_exporter": "python",
   "pygments_lexer": "ipython3",
   "version": "3.12.5"
  }
 },
 "nbformat": 4,
 "nbformat_minor": 5
}
