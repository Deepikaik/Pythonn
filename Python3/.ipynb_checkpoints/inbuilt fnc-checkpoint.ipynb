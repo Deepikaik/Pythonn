{
 "cells": [
  {
   "cell_type": "code",
   "execution_count": 1,
   "id": "7d31d0d2-dbc1-45e4-9886-5bf386ff3cdf",
   "metadata": {},
   "outputs": [
    {
     "name": "stdout",
     "output_type": "stream",
     "text": [
      "addition\n",
      "addition\n"
     ]
    }
   ],
   "source": [
    "def add():\n",
    "    print('addition')\n",
    "\n",
    "add()\n",
    "add()"
   ]
  },
  {
   "cell_type": "code",
   "execution_count": 9,
   "id": "ceb23fe1-6dd8-4467-87f2-26facc890007",
   "metadata": {},
   "outputs": [
    {
     "name": "stdout",
     "output_type": "stream",
     "text": [
      "30\n"
     ]
    }
   ],
   "source": [
    "def add(a,b):    #a,b--positional arguements\n",
    "    print(a+b)\n",
    "add(10,20)          #10,20--actual arguements\n"
   ]
  },
  {
   "cell_type": "code",
   "execution_count": 17,
   "id": "e2e10a38-d589-454a-89bc-cd948f39639a",
   "metadata": {},
   "outputs": [
    {
     "name": "stdout",
     "output_type": "stream",
     "text": [
      "3\n",
      "50\n"
     ]
    }
   ],
   "source": [
    "def add(a,b):\n",
    "    return a+b           #return keyword is optional in py fnc\n",
    "r1=add(1,2)\n",
    "r2=add(20,30)\n",
    "print(r1)\n",
    "print(r2)"
   ]
  },
  {
   "cell_type": "code",
   "execution_count": 21,
   "id": "c0ecba7b-b2d3-41b1-a51d-c0109575d707",
   "metadata": {},
   "outputs": [
    {
     "name": "stdout",
     "output_type": "stream",
     "text": [
      "3\n",
      "50\n",
      "150.5\n"
     ]
    }
   ],
   "source": [
    "def add(a,b):\n",
    "    return a+b           #return keyword is optional in py fnc\n",
    "r1=add(1,2)\n",
    "r2=add(20,30)\n",
    "r3=add(100,50.5)\n",
    "print(r1)\n",
    "print(r2)\n",
    "print(r3)"
   ]
  },
  {
   "cell_type": "code",
   "execution_count": null,
   "id": "f1253768-d29a-4a85-ba98-5ee09819ac1a",
   "metadata": {},
   "outputs": [],
   "source": []
  },
  {
   "cell_type": "code",
   "execution_count": null,
   "id": "1ee2a5fe-bab8-4458-a7ec-74066caf3b3b",
   "metadata": {},
   "outputs": [],
   "source": []
  }
 ],
 "metadata": {
  "kernelspec": {
   "display_name": "Python 3 (ipykernel)",
   "language": "python",
   "name": "python3"
  },
  "language_info": {
   "codemirror_mode": {
    "name": "ipython",
    "version": 3
   },
   "file_extension": ".py",
   "mimetype": "text/x-python",
   "name": "python",
   "nbconvert_exporter": "python",
   "pygments_lexer": "ipython3",
   "version": "3.12.5"
  }
 },
 "nbformat": 4,
 "nbformat_minor": 5
}
