{
 "cells": [
  {
   "cell_type": "code",
   "execution_count": 4,
   "id": "cdd8626e-7699-430a-9d68-a599b8de3494",
   "metadata": {},
   "outputs": [
    {
     "name": "stdout",
     "output_type": "stream",
     "text": [
      "outer fnc\n"
     ]
    },
    {
     "ename": "NameError",
     "evalue": "name 'inner' is not defined",
     "output_type": "error",
     "traceback": [
      "\u001b[1;31m---------------------------------------------------------------------------\u001b[0m",
      "\u001b[1;31mNameError\u001b[0m                                 Traceback (most recent call last)",
      "Cell \u001b[1;32mIn[4], line 7\u001b[0m\n\u001b[0;32m      5\u001b[0m     \u001b[38;5;28;01mreturn\u001b[39;00m inner\n\u001b[0;32m      6\u001b[0m outer()\n\u001b[1;32m----> 7\u001b[0m \u001b[43minner\u001b[49m()\n\u001b[0;32m      8\u001b[0m x()\n",
      "\u001b[1;31mNameError\u001b[0m: name 'inner' is not defined"
     ]
    }
   ],
   "source": [
    "def outer():\n",
    "    print('outer fnc')\n",
    "    def inner():\n",
    "        print('inner fnc')\n",
    "    return inner\n",
    "outer()\n",
    "inner()"
   ]
  },
  {
   "cell_type": "code",
   "execution_count": 9,
   "id": "8bde5462-c414-4b81-ad29-2ebe8ae4b372",
   "metadata": {},
   "outputs": [
    {
     "name": "stdout",
     "output_type": "stream",
     "text": [
      "outer fnc\n",
      "100\n"
     ]
    }
   ],
   "source": [
    "def outer():\n",
    "    print('outer fnc')\n",
    "    def inner():\n",
    "        print('inner fnc')\n",
    "    return 100\n",
    "x=outer()\n",
    "print(x)"
   ]
  },
  {
   "cell_type": "code",
   "execution_count": 14,
   "id": "c82d0c19-2de0-46fb-8f62-6c5335e5552e",
   "metadata": {},
   "outputs": [],
   "source": [
    "def login_reqd(fnc):\n",
    "    def inner(name,islogin):\n",
    "        if islogin==False:\n",
    "            print(\"Login reqd\")\n",
    "        else: func(name,islogin)\n",
    "            "
   ]
  },
  {
   "cell_type": "code",
   "execution_count": 21,
   "id": "b18ff9d5-7e5e-494f-9d4b-b271eec760f6",
   "metadata": {},
   "outputs": [
    {
     "name": "stdout",
     "output_type": "stream",
     "text": [
      "home page\n",
      "about page\n"
     ]
    },
    {
     "ename": "TypeError",
     "evalue": "'NoneType' object is not callable",
     "output_type": "error",
     "traceback": [
      "\u001b[1;31m---------------------------------------------------------------------------\u001b[0m",
      "\u001b[1;31mTypeError\u001b[0m                                 Traceback (most recent call last)",
      "Cell \u001b[1;32mIn[21], line 18\u001b[0m\n\u001b[0;32m     16\u001b[0m home_page(\u001b[38;5;124m\"\u001b[39m\u001b[38;5;124mRahul\u001b[39m\u001b[38;5;124m\"\u001b[39m,\u001b[38;5;28;01mTrue\u001b[39;00m)\n\u001b[0;32m     17\u001b[0m About_page(\u001b[38;5;124m\"\u001b[39m\u001b[38;5;124mRahul\u001b[39m\u001b[38;5;124m\"\u001b[39m,\u001b[38;5;28;01mFalse\u001b[39;00m)\n\u001b[1;32m---> 18\u001b[0m \u001b[43morder_page\u001b[49m\u001b[43m(\u001b[49m\u001b[38;5;124;43m\"\u001b[39;49m\u001b[38;5;124;43mRahul\u001b[39;49m\u001b[38;5;124;43m\"\u001b[39;49m\u001b[43m,\u001b[49m\u001b[38;5;28;43;01mTrue\u001b[39;49;00m\u001b[43m)\u001b[49m\n",
      "\u001b[1;31mTypeError\u001b[0m: 'NoneType' object is not callable"
     ]
    }
   ],
   "source": [
    "def login_reqd(func):\n",
    "    def inner(name,islogin):\n",
    "        if islogin==False:\n",
    "            print(\"login is reqd\")\n",
    "        else: func(name,islogin)\n",
    "        return inner\n",
    "        \n",
    "def home_page(name,islogin):\n",
    "    print(\"home page\")\n",
    "def About_page(name,islogin):\n",
    "    print(\"about page\")\n",
    "@login_reqd\n",
    "def order_page(name,islogin):\n",
    "    print(\"order page\")\n",
    "\n",
    "home_page(\"Rahul\",True)\n",
    "About_page(\"Rahul\",False)\n",
    "order_page(\"Rahul\",True)\n"
   ]
  },
  {
   "cell_type": "code",
   "execution_count": null,
   "id": "29696071-a7de-46a9-a1f5-060a01007262",
   "metadata": {},
   "outputs": [],
   "source": []
  }
 ],
 "metadata": {
  "kernelspec": {
   "display_name": "Python 3 (ipykernel)",
   "language": "python",
   "name": "python3"
  },
  "language_info": {
   "codemirror_mode": {
    "name": "ipython",
    "version": 3
   },
   "file_extension": ".py",
   "mimetype": "text/x-python",
   "name": "python",
   "nbconvert_exporter": "python",
   "pygments_lexer": "ipython3",
   "version": "3.12.5"
  }
 },
 "nbformat": 4,
 "nbformat_minor": 5
}
