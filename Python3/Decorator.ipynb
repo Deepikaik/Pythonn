{
 "cells": [
  {
   "cell_type": "code",
   "execution_count": 4,
   "id": "cdd8626e-7699-430a-9d68-a599b8de3494",
   "metadata": {},
   "outputs": [
    {
     "name": "stdout",
     "output_type": "stream",
     "text": [
      "outer fnc\n"
     ]
    },
    {
     "ename": "NameError",
     "evalue": "name 'inner' is not defined",
     "output_type": "error",
     "traceback": [
      "\u001b[1;31m---------------------------------------------------------------------------\u001b[0m",
      "\u001b[1;31mNameError\u001b[0m                                 Traceback (most recent call last)",
      "Cell \u001b[1;32mIn[4], line 7\u001b[0m\n\u001b[0;32m      5\u001b[0m     \u001b[38;5;28;01mreturn\u001b[39;00m inner\n\u001b[0;32m      6\u001b[0m outer()\n\u001b[1;32m----> 7\u001b[0m \u001b[43minner\u001b[49m()\n\u001b[0;32m      8\u001b[0m x()\n",
      "\u001b[1;31mNameError\u001b[0m: name 'inner' is not defined"
     ]
    }
   ],
   "source": [
    "def outer():\n",
    "    print('outer fnc')\n",
    "    def inner():\n",
    "        print('inner fnc')\n",
    "    return inner\n",
    "outer()\n",
    "inner()"
   ]
  },
  {
   "cell_type": "code",
   "execution_count": 9,
   "id": "8bde5462-c414-4b81-ad29-2ebe8ae4b372",
   "metadata": {},
   "outputs": [
    {
     "name": "stdout",
     "output_type": "stream",
     "text": [
      "outer fnc\n",
      "100\n"
     ]
    }
   ],
   "source": [
    "def outer():\n",
    "    print('outer fnc')\n",
    "    def inner():\n",
    "        print('inner fnc')\n",
    "    return 100\n",
    "x=outer()\n",
    "print(x)"
   ]
  },
  {
   "cell_type": "code",
   "execution_count": 5,
   "id": "c82d0c19-2de0-46fb-8f62-6c5335e5552e",
   "metadata": {},
   "outputs": [
    {
     "name": "stdout",
     "output_type": "stream",
     "text": [
      "home page\n",
      "about page\n"
     ]
    }
   ],
   "source": [
    "def login_reqd(fnc):\n",
    "    def inner(name,islogin):\n",
    "        if islogin==False:\n",
    "            print(\"Login reqd\")\n",
    "        else: func(name,islogin)\n",
    "        return inner\n",
    "def home_page(name,islogin):\n",
    "    print(\"home page\")\n",
    "def About_page(name,islogin):\n",
    "    print(\"about page\")\n",
    "home_page(\"Rahul\",True)\n",
    "About_page(\"Rahul\",False)\n",
    "            "
   ]
  },
  {
   "cell_type": "code",
   "execution_count": 20,
   "id": "b18ff9d5-7e5e-494f-9d4b-b271eec760f6",
   "metadata": {},
   "outputs": [
    {
     "name": "stdout",
     "output_type": "stream",
     "text": [
      "home page\n",
      "about page\n",
      "login is reqd\n"
     ]
    }
   ],
   "source": [
    "def login_reqd(func):\n",
    "    def inner(islogin):\n",
    "        if islogin==False:\n",
    "            print(\"login is reqd\")\n",
    "        else:\n",
    "            return func(islogin)\n",
    "    return inner\n",
    "        \n",
    "def home_page(islogin):\n",
    "    print(\"home page\")\n",
    "def About_page(islogin):\n",
    "    print(\"about page\")\n",
    "    \n",
    "@login_reqd\n",
    "def order_page(islogin):\n",
    "    print(\"order page\")\n",
    "\n",
    "home_page(True)\n",
    "About_page(False)\n",
    "order_page(False)\n"
   ]
  },
  {
   "cell_type": "code",
   "execution_count": 26,
   "id": "29696071-a7de-46a9-a1f5-060a01007262",
   "metadata": {},
   "outputs": [
    {
     "name": "stdout",
     "output_type": "stream",
     "text": [
      "5.0\n",
      "cannot be divided by 0\n",
      "gm\n"
     ]
    }
   ],
   "source": [
    "def testcase(fnc):\n",
    "    def inner(a,b):\n",
    "        if b==0:\n",
    "            print('cannot be divided by 0')\n",
    "        else:\n",
    "            return fnc(a,b)\n",
    "    return inner\n",
    "\n",
    "\n",
    "@testcase                #addding a decorator\n",
    "def calc(a,b):\n",
    "    print(a/b)\n",
    "\n",
    "\n",
    "\n",
    "calc(10,2)\n",
    "calc(10,0)\n",
    "print('gm')"
   ]
  },
  {
   "cell_type": "code",
   "execution_count": 28,
   "id": "f099a273-67c4-4488-8f3b-8709ad06d7c0",
   "metadata": {},
   "outputs": [
    {
     "name": "stdout",
     "output_type": "stream",
     "text": [
      "home page\n",
      "login is required\n",
      "login is required\n",
      "profile page\n"
     ]
    }
   ],
   "source": [
    "def Is_login(func):\n",
    "    def inner(name,islogin):\n",
    "        if islogin==False:\n",
    "            print('login is required')\n",
    "        else:\n",
    "            return func(name,islogin)      \n",
    "    return inner\n",
    "\n",
    "\n",
    "@Is_login\n",
    "def homepage(name,islogin):\n",
    "    print('home page')\n",
    "    \n",
    "@Is_login\n",
    "def aboutpage(name,islogin):\n",
    "    print('about page')\n",
    "    \n",
    "@Is_login\n",
    "def orderpage(name,islogin):\n",
    "    print('order page')\n",
    "\n",
    "@Is_login\n",
    "def profilepage(name,islogin):\n",
    "    print('profile page')\n",
    "\n",
    "homepage(\"Rahul\",True)\n",
    "aboutpage(\"Rahu\",False)\n",
    "orderpage(\"Rah\",False)\n",
    "profilepage(\"Ra\",True)\n"
   ]
  },
  {
   "cell_type": "code",
   "execution_count": 39,
   "id": "329c0368-780d-4b9d-acaa-a87b9d25b40b",
   "metadata": {},
   "outputs": [
    {
     "name": "stdout",
     "output_type": "stream",
     "text": [
      "Hi RAHUL\n",
      "Hi SONIA\n",
      "*****\n"
     ]
    }
   ],
   "source": [
    "def changecase(func):\n",
    "    def inner(name):\n",
    "        return func(\"Hi\"+' '+ name.upper())\n",
    "    return inner\n",
    "\n",
    "@changecase\n",
    "def display(name):\n",
    "    print(name)\n",
    "    \n",
    "display('Rahul')\n",
    "display('sonia')\n",
    "print(\"*****\")"
   ]
  },
  {
   "cell_type": "code",
   "execution_count": 43,
   "id": "a58e4f59-fe15-4972-8508-725c34bb63eb",
   "metadata": {},
   "outputs": [
    {
     "name": "stdout",
     "output_type": "stream",
     "text": [
      "2.0\n",
      "cant divide by 0\n"
     ]
    }
   ],
   "source": [
    "def testcase(fnc):\n",
    "    def inner (a,b):\n",
    "        if b==0:\n",
    "            print('cant divide by 0')\n",
    "        else:\n",
    "            return fnc(a,b)\n",
    "    return inner\n",
    "\n",
    "@testcase\n",
    "def calc(a,b):\n",
    "    print(a/b)\n",
    "\n",
    "calc(20,10)\n",
    "calc(20,0)"
   ]
  },
  {
   "cell_type": "code",
   "execution_count": null,
   "id": "6a46b4de-282e-4a6b-b2b3-093b10e22822",
   "metadata": {},
   "outputs": [],
   "source": []
  }
 ],
 "metadata": {
  "kernelspec": {
   "display_name": "Python 3 (ipykernel)",
   "language": "python",
   "name": "python3"
  },
  "language_info": {
   "codemirror_mode": {
    "name": "ipython",
    "version": 3
   },
   "file_extension": ".py",
   "mimetype": "text/x-python",
   "name": "python",
   "nbconvert_exporter": "python",
   "pygments_lexer": "ipython3",
   "version": "3.12.5"
  }
 },
 "nbformat": 4,
 "nbformat_minor": 5
}
