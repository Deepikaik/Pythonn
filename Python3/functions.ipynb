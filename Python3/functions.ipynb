{
 "cells": [
  {
   "cell_type": "code",
   "execution_count": 6,
   "id": "f798dce2-722c-4f15-a943-48720618b7d0",
   "metadata": {},
   "outputs": [
    {
     "name": "stdout",
     "output_type": "stream",
     "text": [
      "300\n",
      "300\n"
     ]
    }
   ],
   "source": [
    "def calc(a,b):\n",
    "    print(a+b)\n",
    "\n",
    "calc(100,200)\n",
    "calc(200,100)\n"
   ]
  },
  {
   "cell_type": "code",
   "execution_count": 11,
   "id": "00085edc-4098-4df6-b3fb-01593b7a97bc",
   "metadata": {},
   "outputs": [
    {
     "name": "stdout",
     "output_type": "stream",
     "text": [
      "-100\n",
      "100\n"
     ]
    }
   ],
   "source": [
    "def calc(a,b):\n",
    "    print(a-b)\n",
    "\n",
    "calc(100,200)\n",
    "calc(200,100)"
   ]
  },
  {
   "cell_type": "code",
   "execution_count": 12,
   "id": "e826fc30-cc7d-4741-bb00-8f780eea0492",
   "metadata": {},
   "outputs": [
    {
     "name": "stdout",
     "output_type": "stream",
     "text": [
      "-100\n",
      "-100\n"
     ]
    }
   ],
   "source": [
    "def calc(a,b):\n",
    "    print(a-b)\n",
    "\n",
    "calc(a=100,b=200)\n",
    "calc(b=200,a=100)"
   ]
  },
  {
   "cell_type": "code",
   "execution_count": 13,
   "id": "368760e0-cc18-47ed-af63-5af7281c1a93",
   "metadata": {},
   "outputs": [
    {
     "name": "stdout",
     "output_type": "stream",
     "text": [
      "60\n"
     ]
    }
   ],
   "source": [
    "def calc(a,b,c):\n",
    "    print(a+b+c)\n",
    "\n",
    "\n",
    "calc(10,20,30)\n",
    "#calc(10,20)\n",
    "#calc(1,2)\n"
   ]
  },
  {
   "cell_type": "code",
   "execution_count": 16,
   "id": "3c221ec5-87be-42f2-bbce-2a93ec4a29dc",
   "metadata": {},
   "outputs": [
    {
     "name": "stdout",
     "output_type": "stream",
     "text": [
      "60\n",
      "31\n",
      "4\n"
     ]
    }
   ],
   "source": [
    "def calc(a,b,c=1):\n",
    "    print(a+b+c)\n",
    "\n",
    "\n",
    "calc(10,20,30)   #60\n",
    "calc(10,20)      #31 \n",
    "calc(1,2)"
   ]
  },
  {
   "cell_type": "code",
   "execution_count": 17,
   "id": "8173f81f-6f4f-4c72-b036-24db106cc887",
   "metadata": {},
   "outputs": [
    {
     "ename": "SyntaxError",
     "evalue": "parameter without a default follows parameter with a default (2090352239.py, line 1)",
     "output_type": "error",
     "traceback": [
      "\u001b[1;36m  Cell \u001b[1;32mIn[17], line 1\u001b[1;36m\u001b[0m\n\u001b[1;33m    def calc(a=1,b,c):\u001b[0m\n\u001b[1;37m                 ^\u001b[0m\n\u001b[1;31mSyntaxError\u001b[0m\u001b[1;31m:\u001b[0m parameter without a default follows parameter with a default\n"
     ]
    }
   ],
   "source": [
    "def calc(a=1,b,c):\n",
    "    print(a+b+c)\n",
    "\n",
    "\n",
    "calc(10,20,30)   #60\n",
    "calc(10,20)      #31 \n",
    "calc(1,2)\n",
    "  Cell In[10],"
   ]
  },
  {
   "cell_type": "code",
   "execution_count": 18,
   "id": "d419dec7-2044-4a73-a1f4-cae9f6352127",
   "metadata": {},
   "outputs": [
    {
     "name": "stdout",
     "output_type": "stream",
     "text": [
      "()\n",
      "(10,)\n",
      "(10, 20)\n",
      "(10, 20, 30)\n",
      "(10, 20, 30, 40)\n",
      "(10, 20, 30, 40, 50)\n"
     ]
    }
   ],
   "source": [
    "def calc(*a):\n",
    "    print(a)\n",
    "    \n",
    "calc()\n",
    "calc(10)\n",
    "calc(10,20)\n",
    "calc(10,20,30)\n",
    "calc(10,20,30,40)\n",
    "calc(10,20,30,40,50)"
   ]
  },
  {
   "cell_type": "code",
   "execution_count": 19,
   "id": "d3f4977d-a3e2-417e-94e2-582ffc4c1caa",
   "metadata": {},
   "outputs": [
    {
     "name": "stdout",
     "output_type": "stream",
     "text": [
      "100\n",
      "150\n"
     ]
    }
   ],
   "source": [
    "def calc(*a):\n",
    "    print(sum(a))\n",
    "    \n",
    "\n",
    "calc(10,20,30,40)\n",
    "calc(10,20,30,40,50)"
   ]
  },
  {
   "cell_type": "code",
   "execution_count": 20,
   "id": "eb4c45f0-f114-4cf3-be41-3b39601fad8d",
   "metadata": {},
   "outputs": [
    {
     "name": "stdout",
     "output_type": "stream",
     "text": [
      "Outer function\n"
     ]
    },
    {
     "ename": "NameError",
     "evalue": "name 'inner' is not defined",
     "output_type": "error",
     "traceback": [
      "\u001b[1;31m---------------------------------------------------------------------------\u001b[0m",
      "\u001b[1;31mNameError\u001b[0m                                 Traceback (most recent call last)",
      "Cell \u001b[1;32mIn[20], line 9\u001b[0m\n\u001b[0;32m      6\u001b[0m         \u001b[38;5;28mprint\u001b[39m(\u001b[38;5;124m\"\u001b[39m\u001b[38;5;124mInner Function\u001b[39m\u001b[38;5;124m\"\u001b[39m)\n\u001b[0;32m      8\u001b[0m outer()\n\u001b[1;32m----> 9\u001b[0m \u001b[43minner\u001b[49m()\n",
      "\u001b[1;31mNameError\u001b[0m: name 'inner' is not defined"
     ]
    }
   ],
   "source": [
    "#what is inner function?\n",
    "#how to invoeke inner funciton from outside?\n",
    "def outer():\n",
    "    print(\"Outer function\")\n",
    "    def inner():\n",
    "        print(\"Inner Function\")\n",
    "\n",
    "outer()\n",
    "inner()"
   ]
  },
  {
   "cell_type": "code",
   "execution_count": 21,
   "id": "69979745-8882-4df9-8d9e-765e7fabedb6",
   "metadata": {},
   "outputs": [
    {
     "name": "stdout",
     "output_type": "stream",
     "text": [
      "Outer function\n",
      "Inner Function\n",
      "Inner Function\n"
     ]
    }
   ],
   "source": [
    "def outer():\n",
    "    print(\"Outer function\")\n",
    "    def inner():\n",
    "        print(\"Inner Function\")\n",
    "    inner()\n",
    "    inner()\n",
    "\n",
    "outer()"
   ]
  },
  {
   "cell_type": "code",
   "execution_count": 22,
   "id": "9ee8e28f-9a38-4db4-bbb1-620ecb6b1813",
   "metadata": {},
   "outputs": [
    {
     "name": "stdout",
     "output_type": "stream",
     "text": [
      "Outer function\n",
      "100\n"
     ]
    }
   ],
   "source": [
    "def outer():\n",
    "    print(\"Outer function\")\n",
    "    \n",
    "    def inner():\n",
    "        print(\"Inner Function\")\n",
    "        \n",
    "    return 100\n",
    "\n",
    "value=outer()\n",
    "print(value)\n"
   ]
  },
  {
   "cell_type": "code",
   "execution_count": 23,
   "id": "300353c2-00f4-44f7-8876-279097cc811c",
   "metadata": {},
   "outputs": [
    {
     "name": "stdout",
     "output_type": "stream",
     "text": [
      "Outer function\n",
      "Inner Function\n",
      "Inner Function\n"
     ]
    }
   ],
   "source": [
    "def outer():\n",
    "    print(\"Outer function\")\n",
    "    \n",
    "    def inner():\n",
    "        print(\"Inner Function\")\n",
    "        \n",
    "    return inner\n",
    "\n",
    "inner=outer()\n",
    "inner()\n",
    "inner()"
   ]
  },
  {
   "cell_type": "code",
   "execution_count": 24,
   "id": "e5b2fdb8-d815-44ad-b07a-bf34c9b8c66d",
   "metadata": {},
   "outputs": [
    {
     "name": "stdout",
     "output_type": "stream",
     "text": [
      "<class 'int'>\n"
     ]
    }
   ],
   "source": [
    "a=100\n",
    "print(type(a))"
   ]
  },
  {
   "cell_type": "code",
   "execution_count": 25,
   "id": "dacf8312-6010-4f24-b7bb-67d7821266f4",
   "metadata": {},
   "outputs": [
    {
     "name": "stdout",
     "output_type": "stream",
     "text": [
      "<class 'int'>\n",
      "<class 'function'>\n"
     ]
    }
   ],
   "source": [
    "a=100\n",
    "def add(a,b):\n",
    "    print(a+b)\n",
    "\n",
    "print(type(a))\n",
    "print(type(add))"
   ]
  },
  {
   "cell_type": "code",
   "execution_count": 26,
   "id": "9d1ecae8-250a-4bd5-afa8-bbef9f16d780",
   "metadata": {},
   "outputs": [
    {
     "name": "stdout",
     "output_type": "stream",
     "text": [
      "<class 'function'>\n"
     ]
    }
   ],
   "source": [
    "add=lambda a,b:a+b\n",
    "print(type(add))"
   ]
  },
  {
   "cell_type": "code",
   "execution_count": 27,
   "id": "6ce42135-b1dc-401a-8b81-22735b3585b2",
   "metadata": {},
   "outputs": [
    {
     "name": "stdout",
     "output_type": "stream",
     "text": [
      "30\n"
     ]
    }
   ],
   "source": [
    "def add(a,b):\n",
    "    return a+b\n",
    "\n",
    "r1 = add(10,20)\n",
    "print(r1)\n"
   ]
  },
  {
   "cell_type": "code",
   "execution_count": 28,
   "id": "e3811c4e-7fb6-4f82-87a7-214aee466d22",
   "metadata": {},
   "outputs": [
    {
     "name": "stdout",
     "output_type": "stream",
     "text": [
      "30\n"
     ]
    }
   ],
   "source": [
    "add= lambda a,b:a+b\n",
    "\n",
    "r1= add(10,20)\n",
    "print(r1)"
   ]
  },
  {
   "cell_type": "code",
   "execution_count": 29,
   "id": "4f435a75-b490-4cec-a9ac-aea1069b6fa6",
   "metadata": {},
   "outputs": [
    {
     "name": "stdout",
     "output_type": "stream",
     "text": [
      "36\n"
     ]
    }
   ],
   "source": [
    "def addplus(mark):\n",
    "    return mark+1\n",
    "\n",
    "print(addplus(35))"
   ]
  },
  {
   "cell_type": "code",
   "execution_count": 30,
   "id": "db37d510-85db-4386-be98-f60ecc4cc901",
   "metadata": {},
   "outputs": [
    {
     "name": "stdout",
     "output_type": "stream",
     "text": [
      "<class 'map'>\n",
      "[36, 16, 11]\n"
     ]
    }
   ],
   "source": [
    "def addplus(mark):\n",
    "    return mark+1\n",
    "marks=[35,15,10]\n",
    "\n",
    "#map(function,seq) \n",
    "obj=map(addplus,marks)\n",
    "print(type(obj))\n",
    "print(list(obj))"
   ]
  },
  {
   "cell_type": "code",
   "execution_count": 31,
   "id": "af6d8f89-2f20-4d95-9e41-e92a1bbcc44b",
   "metadata": {},
   "outputs": [
    {
     "name": "stdout",
     "output_type": "stream",
     "text": [
      "[36, 11, 16]\n"
     ]
    }
   ],
   "source": [
    "print(list(map(lambda m:m+1,[35,10,15])))"
   ]
  },
  {
   "cell_type": "code",
   "execution_count": 4,
   "id": "cb418089-53d1-4910-9ea2-738901649916",
   "metadata": {},
   "outputs": [
    {
     "name": "stdout",
     "output_type": "stream",
     "text": [
      "rahul\n"
     ]
    }
   ],
   "source": [
    "def update(name):        #fnc without lambda\n",
    "    return name.lower() #lower is a string method\n",
    "name= update(\"RAHUL\")\n",
    "print(name)\n",
    "\n",
    "update=lambda name:name.lower()    #fnc with lambda\n",
    "name= update(\"RAHUL\")\n",
    "print(name)"
   ]
  },
  {
   "cell_type": "code",
   "execution_count": 15,
   "id": "73fb4598-fb20-4839-9c59-f94d19b1c894",
   "metadata": {},
   "outputs": [
    {
     "name": "stdout",
     "output_type": "stream",
     "text": [
      "[10, 20, 30, 40]\n",
      "[11, 21, 31, 41]\n"
     ]
    }
   ],
   "source": [
    "#add +1 and create a new list\n",
    "#normal fnc\n",
    "numbers=[10,20,30,40]\n",
    "def addplus(num):\n",
    "    return(num+1)"
   ]
  },
  {
   "cell_type": "code",
   "execution_count": 16,
   "id": "9d2050e8-c434-40e3-b432-5da0197f363c",
   "metadata": {},
   "outputs": [
    {
     "name": "stdout",
     "output_type": "stream",
     "text": [
      "[10, 20, 30, 40]\n",
      "[11, 21, 31, 41]\n"
     ]
    }
   ],
   "source": [
    "#using map fnc \n",
    "map_obj=map(addplus,numbers)\n",
    "new_num=list(map_obj)\n",
    "print(numbers)\n",
    "print(new_num)"
   ]
  },
  {
   "cell_type": "code",
   "execution_count": 17,
   "id": "f008f5e6-5ba7-43b5-91e9-456a76b959bb",
   "metadata": {},
   "outputs": [
    {
     "name": "stdout",
     "output_type": "stream",
     "text": [
      "[11, 21, 31, 41]\n"
     ]
    }
   ],
   "source": [
    "#using lambda fnc\n",
    "map_obj=map(lambda num:num+1,numbers)\n",
    "new_num=list(map_obj)\n",
    "print(new_num)"
   ]
  },
  {
   "cell_type": "code",
   "execution_count": 18,
   "id": "64cf7701-e978-403d-9ca2-f35cb1aa697b",
   "metadata": {},
   "outputs": [
    {
     "name": "stdout",
     "output_type": "stream",
     "text": [
      "['RAHUL', 'SONIA', 'PRIYA', 'MODI']\n"
     ]
    }
   ],
   "source": [
    "enames=[\"rahul\",\"sonia\",\"priya\",\"modi\"]\n",
    "new_name=list(map(lambda name:name.upper(),enames))\n",
    "print(new_name)"
   ]
  },
  {
   "cell_type": "code",
   "execution_count": 20,
   "id": "a9279b7c-3937-4054-8448-236af198f091",
   "metadata": {},
   "outputs": [
    {
     "name": "stdout",
     "output_type": "stream",
     "text": [
      "[50, 40, 30, 20, 700, 400]\n"
     ]
    }
   ],
   "source": [
    "#display all product prices below 1000\n",
    "product_prices=[1000,50,40,30,20,700,400,2000]\n",
    "new_list=[]\n",
    "for price in product_prices:\n",
    "    if price<1000:\n",
    "        new_list.append(price)\n",
    "print(new_list)"
   ]
  },
  {
   "cell_type": "code",
   "execution_count": 22,
   "id": "88626e48-6a10-41e9-affb-8bf9bc34a7eb",
   "metadata": {},
   "outputs": [
    {
     "name": "stdout",
     "output_type": "stream",
     "text": [
      "[50, 40, 30, 20, 700, 400]\n"
     ]
    }
   ],
   "source": [
    "#display all product prices below 1000 using filter fnc with lambda\n",
    "product_prices=[1000,50,40,30,20,700,400,2000]\n",
    "new_list=list(filter(lambda price:price<1000,product_prices))\n",
    "print(new_list)\n"
   ]
  },
  {
   "cell_type": "code",
   "execution_count": 25,
   "id": "52909d29-c930-4c2d-8b18-3a81f41f2ef0",
   "metadata": {},
   "outputs": [
    {
     "name": "stdout",
     "output_type": "stream",
     "text": [
      "[50, 40, 30, 20, 700, 400]\n"
     ]
    }
   ],
   "source": [
    "product_prices=[1000,50,40,30,20,700,400,2000]\n",
    "def functionfnc(price):\n",
    "    return price<1000\n",
    "new_list=list(filter(functionfnc,product_prices))\n",
    "print (new_list)"
   ]
  },
  {
   "cell_type": "code",
   "execution_count": 36,
   "id": "a75d5c7a-934e-4634-ae29-a89311471f5b",
   "metadata": {},
   "outputs": [
    {
     "name": "stdout",
     "output_type": "stream",
     "text": [
      "8\n",
      "43\n",
      "49\n"
     ]
    }
   ],
   "source": [
    "users=[{\"id\":1,\"name\":\"Enoch\",\"gender\":\"Male\",\"sal\":\"$65026.54\"},\n",
    "{\"id\":2,\"name\":\"Othelia\",\"gender\":\"Female\",\"sal\":\"$50954.46\"},\n",
    "{\"id\":3,\"name\":\"Winne\",\"gender\":\"Female\",\"sal\":\"$64369.87\"},\n",
    "{\"id\":4,\"name\":\"Cornelia\",\"gender\":\"Female\",\"sal\":\"$50258.01\"},\n",
    "{\"id\":5,\"name\":\"Burg\",\"gender\":\"Male\",\"sal\":\"$69564.22\"},\n",
    "{\"id\":6,\"name\":\"Ewan\",\"gender\":\"Male\",\"sal\":\"$50537.29\"},\n",
    "{\"id\":7,\"name\":\"Armando\",\"gender\":\"Male\",\"sal\":\"$50507.06\"},\n",
    "{\"id\":8,\"name\":\"Cyrus\",\"gender\":\"Male\",\"sal\":\"$66446.63\"},\n",
    "{\"id\":9,\"name\":\"Eilis\",\"gender\":\"Female\",\"sal\":\"$42468.13\"},\n",
    "{\"id\":10,\"name\":\"Josiah\",\"gender\":\"Male\",\"sal\":\"$54766.32\"},\n",
    "{\"id\":11,\"name\":\"Lyn\",\"gender\":\"Female\",\"sal\":\"$48764.36\"},\n",
    "{\"id\":12,\"name\":\"Padraic\",\"gender\":\"Male\",\"sal\":\"$46773.48\"},\n",
    "{\"id\":13,\"name\":\"Cameron\",\"gender\":\"Male\",\"sal\":\"$56835.67\"},\n",
    "{\"id\":14,\"name\":\"Henri\",\"gender\":\"Male\",\"sal\":\"$67052.93\"},\n",
    "{\"id\":15,\"name\":\"Artemas\",\"gender\":\"Male\",\"sal\":\"$42625.94\"},\n",
    "{\"id\":16,\"name\":\"Timoteo\",\"gender\":\"Male\",\"sal\":\"$59732.64\"},\n",
    "{\"id\":17,\"name\":\"Cristabel\",\"gender\":\"Female\",\"sal\":\"$50106.38\"},\n",
    "{\"id\":18,\"name\":\"Carlita\",\"gender\":\"Non-binary\",\"sal\":\"$66005.09\"},\n",
    "{\"id\":19,\"name\":\"Ignacio\",\"gender\":\"Male\",\"sal\":\"$40121.77\"},\n",
    "{\"id\":20,\"name\":\"Vincent\",\"gender\":\"Male\",\"sal\":\"$59513.74\"},\n",
    "{\"id\":21,\"name\":\"Dione\",\"gender\":\"Female\",\"sal\":\"$46614.46\"},\n",
    "{\"id\":22,\"name\":\"Georgiana\",\"gender\":\"Female\",\"sal\":\"$53383.54\"},\n",
    "{\"id\":23,\"name\":\"Lidia\",\"gender\":\"Female\",\"sal\":\"$62501.05\"},\n",
    "{\"id\":24,\"name\":\"Lambert\",\"gender\":\"Male\",\"sal\":\"$41347.36\"},\n",
    "{\"id\":25,\"name\":\"Elayne\",\"gender\":\"Female\",\"sal\":\"$50497.62\"},\n",
    "{\"id\":26,\"name\":\"Francoise\",\"gender\":\"Female\",\"sal\":\"$64627.79\"},\n",
    "{\"id\":27,\"name\":\"Clea\",\"gender\":\"Female\",\"sal\":\"$43931.43\"},\n",
    "{\"id\":28,\"name\":\"Robb\",\"gender\":\"Male\",\"sal\":\"$66087.16\"},\n",
    "{\"id\":29,\"name\":\"Shannon\",\"gender\":\"Female\",\"sal\":\"$63223.96\"},\n",
    "{\"id\":30,\"name\":\"Bertha\",\"gender\":\"Female\",\"sal\":\"$61799.50\"},\n",
    "{\"id\":31,\"name\":\"Rycca\",\"gender\":\"Female\",\"sal\":\"$43159.72\"},\n",
    "{\"id\":32,\"name\":\"Bartlet\",\"gender\":\"Male\",\"sal\":\"$51004.65\"},\n",
    "{\"id\":33,\"name\":\"Sammy\",\"gender\":\"Male\",\"sal\":\"$51976.23\"},\n",
    "{\"id\":34,\"name\":\"Celina\",\"gender\":\"Female\",\"sal\":\"$49472.17\"},\n",
    "{\"id\":35,\"name\":\"Krissie\",\"gender\":\"Bigender\",\"sal\":\"$58247.40\"},\n",
    "{\"id\":36,\"name\":\"Emory\",\"gender\":\"Male\",\"sal\":\"$68210.19\"},\n",
    "{\"id\":37,\"name\":\"Reid\",\"gender\":\"Male\",\"sal\":\"$41639.80\"},\n",
    "{\"id\":38,\"name\":\"Teresita\",\"gender\":\"Female\",\"sal\":\"$61277.19\"},\n",
    "{\"id\":39,\"name\":\"Alleyn\",\"gender\":\"Male\",\"sal\":\"$55212.68\"},\n",
    "{\"id\":40,\"name\":\"Micheline\",\"gender\":\"Genderqueer\",\"sal\":\"$43174.73\"},\n",
    "{\"id\":41,\"name\":\"Abram\",\"gender\":\"Male\",\"sal\":\"$58775.62\"},\n",
    "{\"id\":42,\"name\":\"Fabian\",\"gender\":\"Male\",\"sal\":\"$67209.70\"},\n",
    "{\"id\":43,\"name\":\"Alan\",\"gender\":\"Male\",\"sal\":\"$57560.06\"},\n",
    "{\"id\":44,\"name\":\"Christophorus\",\"gender\":\"Male\",\"sal\":\"$40006.20\"},\n",
    "{\"id\":45,\"name\":\"Hedy\",\"gender\":\"Female\",\"sal\":\"$54944.03\"},\n",
    "{\"id\":46,\"name\":\"Sioux\",\"gender\":\"Female\",\"sal\":\"$54597.37\"},\n",
    "{\"id\":47,\"name\":\"Karoly\",\"gender\":\"Female\",\"sal\":\"$53322.47\"},\n",
    "{\"id\":48,\"name\":\"Burl\",\"gender\":\"Male\",\"sal\":\"$52233.55\"},\n",
    "{\"id\":49,\"name\":\"Jarid\",\"gender\":\"Male\",\"sal\":\"$48799.38\"},\n",
    "{\"id\":50,\"name\":\"Wallie\",\"gender\":\"Female\",\"sal\":\"$50829.34\"},\n",
    "{\"id\":51,\"name\":\"Katy\",\"gender\":\"Female\",\"sal\":\"$53988.60\"},\n",
    "{\"id\":52,\"name\":\"Saree\",\"gender\":\"Female\",\"sal\":\"$43480.88\"},\n",
    "{\"id\":53,\"name\":\"Marcille\",\"gender\":\"Female\",\"sal\":\"$63263.57\"},\n",
    "{\"id\":54,\"name\":\"Adham\",\"gender\":\"Male\",\"sal\":\"$41712.81\"},\n",
    "{\"id\":55,\"name\":\"Otes\",\"gender\":\"Agender\",\"sal\":\"$44839.55\"},\n",
    "{\"id\":56,\"name\":\"Mallory\",\"gender\":\"Female\",\"sal\":\"$66627.38\"},\n",
    "{\"id\":57,\"name\":\"Lishe\",\"gender\":\"Female\",\"sal\":\"$47719.97\"},\n",
    "{\"id\":58,\"name\":\"Clarissa\",\"gender\":\"Female\",\"sal\":\"$46828.87\"},\n",
    "{\"id\":59,\"name\":\"Krystyna\",\"gender\":\"Female\",\"sal\":\"$51854.70\"},\n",
    "{\"id\":60,\"name\":\"Parke\",\"gender\":\"Non-binary\",\"sal\":\"$59845.61\"},\n",
    "{\"id\":61,\"name\":\"Myrwyn\",\"gender\":\"Male\",\"sal\":\"$65609.13\"},\n",
    "{\"id\":62,\"name\":\"Bev\",\"gender\":\"Male\",\"sal\":\"$50892.26\"},\n",
    "{\"id\":63,\"name\":\"Arther\",\"gender\":\"Male\",\"sal\":\"$64235.16\"},\n",
    "{\"id\":64,\"name\":\"Bennie\",\"gender\":\"Female\",\"sal\":\"$52738.15\"},\n",
    "{\"id\":65,\"name\":\"Jarred\",\"gender\":\"Male\",\"sal\":\"$67802.56\"},\n",
    "{\"id\":66,\"name\":\"Theodore\",\"gender\":\"Male\",\"sal\":\"$65228.60\"},\n",
    "{\"id\":67,\"name\":\"Constanta\",\"gender\":\"Female\",\"sal\":\"$47946.17\"},\n",
    "{\"id\":68,\"name\":\"Goldi\",\"gender\":\"Female\",\"sal\":\"$52207.31\"},\n",
    "{\"id\":69,\"name\":\"Steffane\",\"gender\":\"Female\",\"sal\":\"$60941.69\"},\n",
    "{\"id\":70,\"name\":\"Donalt\",\"gender\":\"Male\",\"sal\":\"$46643.40\"},\n",
    "{\"id\":71,\"name\":\"Port\",\"gender\":\"Male\",\"sal\":\"$40930.91\"},\n",
    "{\"id\":72,\"name\":\"Gage\",\"gender\":\"Male\",\"sal\":\"$67340.99\"},\n",
    "{\"id\":73,\"name\":\"Janaye\",\"gender\":\"Female\",\"sal\":\"$59620.18\"},\n",
    "{\"id\":74,\"name\":\"Brandie\",\"gender\":\"Female\",\"sal\":\"$54530.43\"},\n",
    "{\"id\":75,\"name\":\"Maisey\",\"gender\":\"Female\",\"sal\":\"$68707.08\"},\n",
    "{\"id\":76,\"name\":\"Lishe\",\"gender\":\"Female\",\"sal\":\"$44157.75\"},\n",
    "{\"id\":77,\"name\":\"Errol\",\"gender\":\"Genderfluid\",\"sal\":\"$67342.84\"},\n",
    "{\"id\":78,\"name\":\"Jada\",\"gender\":\"Female\",\"sal\":\"$69254.13\"},\n",
    "{\"id\":79,\"name\":\"Kenn\",\"gender\":\"Male\",\"sal\":\"$69584.86\"},\n",
    "{\"id\":80,\"name\":\"Winston\",\"gender\":\"Male\",\"sal\":\"$45793.16\"},\n",
    "{\"id\":81,\"name\":\"Lind\",\"gender\":\"Female\",\"sal\":\"$66940.16\"},\n",
    "{\"id\":82,\"name\":\"Dominick\",\"gender\":\"Male\",\"sal\":\"$65990.19\"},\n",
    "{\"id\":83,\"name\":\"Arabela\",\"gender\":\"Female\",\"sal\":\"$63303.12\"},\n",
    "{\"id\":84,\"name\":\"Bill\",\"gender\":\"Bigender\",\"sal\":\"$57234.06\"},\n",
    "{\"id\":85,\"name\":\"Lilias\",\"gender\":\"Female\",\"sal\":\"$66533.11\"},\n",
    "{\"id\":86,\"name\":\"Drusy\",\"gender\":\"Female\",\"sal\":\"$60808.69\"},\n",
    "{\"id\":87,\"name\":\"Jordanna\",\"gender\":\"Female\",\"sal\":\"$45632.72\"},\n",
    "{\"id\":88,\"name\":\"Ynez\",\"gender\":\"Female\",\"sal\":\"$61459.28\"},\n",
    "{\"id\":89,\"name\":\"Eustacia\",\"gender\":\"Female\",\"sal\":\"$64902.81\"},\n",
    "{\"id\":90,\"name\":\"Lishe\",\"gender\":\"Female\",\"sal\":\"$67202.78\"},\n",
    "{\"id\":91,\"name\":\"Francine\",\"gender\":\"Female\",\"sal\":\"$40971.00\"},\n",
    "{\"id\":92,\"name\":\"Chrystel\",\"gender\":\"Female\",\"sal\":\"$62536.31\"},\n",
    "{\"id\":93,\"name\":\"Knox\",\"gender\":\"Male\",\"sal\":\"$53173.29\"},\n",
    "{\"id\":94,\"name\":\"Brendan\",\"gender\":\"Male\",\"sal\":\"$47957.88\"},\n",
    "{\"id\":95,\"name\":\"Shermy\",\"gender\":\"Male\",\"sal\":\"$66371.12\"},\n",
    "{\"id\":96,\"name\":\"Loren\",\"gender\":\"Male\",\"sal\":\"$48245.18\"},\n",
    "{\"id\":97,\"name\":\"Emelda\",\"gender\":\"Female\",\"sal\":\"$41994.10\"},\n",
    "{\"id\":98,\"name\":\"Fanechka\",\"gender\":\"Female\",\"sal\":\"$51168.69\"},\n",
    "{\"id\":99,\"name\":\"Meade\",\"gender\":\"Male\",\"sal\":\"$55144.26\"},\n",
    "{\"id\":100,\"name\":\"Marcie\",\"gender\":\"Bigender\",\"sal\":\"$46758.53\"}]\n",
    "female_users=list(filter(lambda user:user[\"gender\"]=='Female',users))\n",
    "male_users=list(filter(lambda user:user['gender']=='Male',users))\n",
    "others=list(filter(lambda user:user['gender']!='Female' and user['gender']!='Male',users))\n",
    "print(len(others))\n",
    "print(len(male_users))\n",
    "print(len(female_users))"
   ]
  },
  {
   "cell_type": "code",
   "execution_count": null,
   "id": "2a181e14-d957-484d-a467-f57df2681f10",
   "metadata": {},
   "outputs": [],
   "source": []
  },
  {
   "cell_type": "code",
   "execution_count": null,
   "id": "737955f1-ce56-4902-b496-b20e52aa485b",
   "metadata": {},
   "outputs": [],
   "source": []
  }
 ],
 "metadata": {
  "kernelspec": {
   "display_name": "Python 3 (ipykernel)",
   "language": "python",
   "name": "python3"
  },
  "language_info": {
   "codemirror_mode": {
    "name": "ipython",
    "version": 3
   },
   "file_extension": ".py",
   "mimetype": "text/x-python",
   "name": "python",
   "nbconvert_exporter": "python",
   "pygments_lexer": "ipython3",
   "version": "3.12.5"
  }
 },
 "nbformat": 4,
 "nbformat_minor": 5
}
