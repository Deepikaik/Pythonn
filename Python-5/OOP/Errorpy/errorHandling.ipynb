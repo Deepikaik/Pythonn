{
 "cells": [
  {
   "cell_type": "code",
   "execution_count": 4,
   "id": "70c283ed-723f-4c04-9643-d9c0b559c0aa",
   "metadata": {},
   "outputs": [
    {
     "ename": "Testerror",
     "evalue": "test error",
     "output_type": "error",
     "traceback": [
      "\u001b[1;31m---------------------------------------------------------------------------\u001b[0m",
      "\u001b[1;31mTesterror\u001b[0m                                 Traceback (most recent call last)",
      "Cell \u001b[1;32mIn[4], line 14\u001b[0m\n\u001b[0;32m     11\u001b[0m  \u001b[38;5;28;01melse\u001b[39;00m:\n\u001b[0;32m     12\u001b[0m      \u001b[38;5;28;01mraise\u001b[39;00m Testerror(\u001b[38;5;124m\"\u001b[39m\u001b[38;5;124mtest error\u001b[39m\u001b[38;5;124m\"\u001b[39m)\n\u001b[1;32m---> 14\u001b[0m \u001b[43mTestcase\u001b[49m\u001b[43m(\u001b[49m\u001b[43m)\u001b[49m      \n",
      "Cell \u001b[1;32mIn[4], line 12\u001b[0m, in \u001b[0;36mTestcase\u001b[1;34m()\u001b[0m\n\u001b[0;32m     10\u001b[0m     \u001b[38;5;28mprint\u001b[39m(\u001b[38;5;124m\"\u001b[39m\u001b[38;5;124mgm\u001b[39m\u001b[38;5;124m\"\u001b[39m)\n\u001b[0;32m     11\u001b[0m \u001b[38;5;28;01melse\u001b[39;00m:\n\u001b[1;32m---> 12\u001b[0m     \u001b[38;5;28;01mraise\u001b[39;00m Testerror(\u001b[38;5;124m\"\u001b[39m\u001b[38;5;124mtest error\u001b[39m\u001b[38;5;124m\"\u001b[39m)\n",
      "\u001b[1;31mTesterror\u001b[0m: test error"
     ]
    }
   ],
   "source": [
    "  #raise key word is used for throwing the user defined error\n",
    "\n",
    "#create a userdefined error\n",
    "class Testerror(Exception):\n",
    "    def __init__(self,msg):\n",
    "        self.msg=msg\n",
    "\n",
    "def Testcase():\n",
    "   if False:\n",
    "       print(\"gm\")\n",
    "   else:\n",
    "       try:\n",
    "           raise Testerror(\"test error\")\n",
    "       except Testerror as err\n",
    "       \n",
    "\n",
    "Testcase()      "
   ]
  },
  {
   "cell_type": "code",
   "execution_count": 7,
   "id": "3374516d-2f15-42df-8b10-82b1a6071ae1",
   "metadata": {},
   "outputs": [
    {
     "ename": "ZeroDivisionError",
     "evalue": "division by zero",
     "output_type": "error",
     "traceback": [
      "\u001b[1;31m---------------------------------------------------------------------------\u001b[0m",
      "\u001b[1;31mZeroDivisionError\u001b[0m                         Traceback (most recent call last)",
      "Cell \u001b[1;32mIn[7], line 1\u001b[0m\n\u001b[1;32m----> 1\u001b[0m \u001b[38;5;28mprint\u001b[39m(\u001b[38;5;241;43m10\u001b[39;49m\u001b[38;5;241;43m/\u001b[39;49m\u001b[38;5;241;43m0\u001b[39;49m)\n\u001b[0;32m      2\u001b[0m \u001b[38;5;28;01mraise\u001b[39;00m \u001b[38;5;167;01mZeroDivisionError\u001b[39;00m()\n",
      "\u001b[1;31mZeroDivisionError\u001b[0m: division by zero"
     ]
    }
   ],
   "source": [
    "print(10/0)\n",
    "raise ZeroDivisionError()"
   ]
  },
  {
   "cell_type": "code",
   "execution_count": 11,
   "id": "6c51fcc5-2dc6-4729-9c82-9c20c28291eb",
   "metadata": {},
   "outputs": [
    {
     "ename": "SyntaxError",
     "evalue": "expected 'except' or 'finally' block (1173771515.py, line 9)",
     "output_type": "error",
     "traceback": [
      "\u001b[1;36m  Cell \u001b[1;32mIn[11], line 9\u001b[1;36m\u001b[0m\n\u001b[1;33m    print (\"GM\")\u001b[0m\n\u001b[1;37m    ^\u001b[0m\n\u001b[1;31mSyntaxError\u001b[0m\u001b[1;31m:\u001b[0m expected 'except' or 'finally' block\n"
     ]
    }
   ],
   "source": [
    "class InsuffError(Exception):\n",
    "    def __init__(self,msg):\n",
    "        self.msg=msg\n",
    "\n",
    "#raise ZeroDivisionError(\"Can't divide by zero\")\n",
    "try:\n",
    "    raise InsuffError(\"low bal\")\n",
    "    \n",
    "print (\"GM\")\n",
    "    "
   ]
  },
  {
   "cell_type": "code",
   "execution_count": null,
   "id": "6bdca4f3-fc2b-4b4a-bb34-09aa4873cde4",
   "metadata": {},
   "outputs": [],
   "source": [
    "class InsuffError(Exception):\n",
    "    def __init__(self,msg):\n",
    "        self.msg=msg\n",
    "\n",
    "def withdrawl():\n",
    "    amount=int(input(\"enter amount to withdraw\"))\n",
    "    acc_bal=5000\n",
    "    if acc_bal>amount:\n",
    "        print(\"withdraw and enjoy\")\n",
    "    else:\n",
    "          raise InsuffError(\"low bal\")\n",
    "\n",
    "except InsuffError as err:\n",
    "    print(\"err:msg\")\n",
    "\n",
    "withdrawl()\n",
    "print(\"GM\")\n",
    "  "
   ]
  },
  {
   "cell_type": "code",
   "execution_count": null,
   "id": "9202adb3-863d-4c09-9f39-6a70aa093a3b",
   "metadata": {},
   "outputs": [],
   "source": []
  },
  {
   "cell_type": "code",
   "execution_count": null,
   "id": "b8fdb0e4-73de-4134-abc0-9da1abfae88f",
   "metadata": {},
   "outputs": [],
   "source": []
  },
  {
   "cell_type": "code",
   "execution_count": null,
   "id": "f123512a-d650-4df4-8a54-97a0709f3072",
   "metadata": {},
   "outputs": [],
   "source": []
  }
 ],
 "metadata": {
  "kernelspec": {
   "display_name": "Python 3 (ipykernel)",
   "language": "python",
   "name": "python3"
  },
  "language_info": {
   "codemirror_mode": {
    "name": "ipython",
    "version": 3
   },
   "file_extension": ".py",
   "mimetype": "text/x-python",
   "name": "python",
   "nbconvert_exporter": "python",
   "pygments_lexer": "ipython3",
   "version": "3.12.5"
  }
 },
 "nbformat": 4,
 "nbformat_minor": 5
}
