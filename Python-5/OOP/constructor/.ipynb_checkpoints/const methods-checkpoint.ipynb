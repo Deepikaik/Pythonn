{
 "cells": [
  {
   "cell_type": "code",
   "execution_count": 1,
   "id": "0e34daac-294b-4acb-a41d-01e0cbcafd1f",
   "metadata": {},
   "outputs": [
    {
     "name": "stdout",
     "output_type": "stream",
     "text": [
      "Acc-CM\n",
      "Acc class-IM\n"
     ]
    }
   ],
   "source": [
    "class Account:\n",
    "    def __init__(self):          #constructor\n",
    "        print(\"Acc-CM\")\n",
    "\n",
    "    def deposit_amount(self,amount):                 #is instance\n",
    "        print(\"Acc class-IM\")\n",
    "    \n",
    "a1=Account()\n",
    "a1.deposit_amount(5000)"
   ]
  },
  {
   "cell_type": "code",
   "execution_count": 5,
   "id": "a89efd97-493f-4290-98eb-95c040a53ad7",
   "metadata": {},
   "outputs": [
    {
     "name": "stdout",
     "output_type": "stream",
     "text": [
      "{'acc_id': 101, 'acc_name': 'Rahul', 'acc_bal': 5000}\n",
      "{'acc_id': 102, 'acc_name': 'Sonia', 'acc_bal': 6000}\n",
      "{'acc_id': 103, 'acc_name': 'Priya', 'acc_bal': 7000}\n"
     ]
    }
   ],
   "source": [
    "class Account:\n",
    "    min_bal=500                                      #static variable at class level shared to every obj #inside class outside methods variables\n",
    "    def __init__(self,id,name,amount):\n",
    "        self.acc_id=id\n",
    "        self.acc_name=name\n",
    "        self.acc_bal=amount   \n",
    "    def deposit_amount(self):             #if value is differing from obj to obj it is instance, object level variable\n",
    "        print(\"instance method\")\n",
    "\n",
    "a1=Account(101,\"Rahul\",5000)\n",
    "a2=Account(102,\"Sonia\",6000)\n",
    "a3=Account(103,\"Priya\",7000)\n",
    "\n",
    "print(a1.__dict__)\n",
    "print(a2.__dict__)\n",
    "print(a3.__dict__)\n",
    "\n"
   ]
  },
  {
   "cell_type": "code",
   "execution_count": 8,
   "id": "bf250c86-9594-463c-8ca2-9e8f8e579a9d",
   "metadata": {},
   "outputs": [
    {
     "name": "stdout",
     "output_type": "stream",
     "text": [
      "{'acc_id': 101, 'acc_name': 'Rahul', 'acc_bal': 5030}\n",
      "{'acc_id': 102, 'acc_name': 'Sonia', 'acc_bal': 6000}\n",
      "{'acc_id': 103, 'acc_name': 'Priya', 'acc_bal': 7055}\n"
     ]
    }
   ],
   "source": [
    "class Account:\n",
    "    min_bal=500\n",
    "    def __init__(self,id,name,amount):\n",
    "        self.acc_id=id\n",
    "        self.acc_name=name\n",
    "        self.acc_bal=amount\n",
    "    def deposit_amount(self,amount):\n",
    "        self.acc_bal=self.acc_bal+amount\n",
    "\n",
    "a1=Account(101,\"Rahul\",5000)\n",
    "a1.deposit_amount(15)\n",
    "a1.deposit_amount(15)\n",
    "a2=Account(102,\"Sonia\",6000)\n",
    "a3=Account(103,\"Priya\",7000)\n",
    "a3.deposit_amount(55)\n",
    "\n",
    "print(a1.__dict__)\n",
    "print(a2.__dict__)\n",
    "print(a3.__dict__)"
   ]
  },
  {
   "cell_type": "code",
   "execution_count": 9,
   "id": "7bf3dbab-e18f-4962-a1c6-794c731a593c",
   "metadata": {},
   "outputs": [
    {
     "name": "stdout",
     "output_type": "stream",
     "text": [
      "{'__module__': '__main__', 'min_bal': 500, '__init__': <function Account.__init__ at 0x000002194E2CE160>, 'deposit_amount': <function Account.deposit_amount at 0x000002194E2CECA0>, '__dict__': <attribute '__dict__' of 'Account' objects>, '__weakref__': <attribute '__weakref__' of 'Account' objects>, '__doc__': None}\n"
     ]
    }
   ],
   "source": [
    "class Account:\n",
    "    min_bal=500\n",
    "    def __init__(self,id,name,amount):\n",
    "        self.acc_id=id\n",
    "        self.acc_name=name\n",
    "        self.acc_bal=amount\n",
    "    def deposit_amount(self,amount):\n",
    "        self.acc_bal=self.acc_bal+amount\n",
    "\n",
    "a1=Account(101,\"Rahul\",5000)\n",
    "a1.deposit_amount(15)\n",
    "a1.deposit_amount(15)\n",
    "a2=Account(102,\"Sonia\",6000)\n",
    "a3=Account(103,\"Priya\",7000)\n",
    "a3.deposit_amount(55)\n",
    "\n",
    "print(Account.__dict__)"
   ]
  },
  {
   "cell_type": "code",
   "execution_count": 12,
   "id": "673aba39-7a43-4bdc-bd6e-2055240f2a8b",
   "metadata": {},
   "outputs": [
    {
     "name": "stdout",
     "output_type": "stream",
     "text": [
      "{'__module__': '__main__', '__doc__': 'Testing class description', '__dict__': <attribute '__dict__' of 'Test' objects>, '__weakref__': <attribute '__weakref__' of 'Test' objects>}\n",
      "Testing class description\n"
     ]
    }
   ],
   "source": [
    "class Test:\n",
    "    \"Testing class description\"\n",
    "    pass\n",
    "\n",
    "print(Test.__dict__)\n",
    "print(Test.__doc__)"
   ]
  },
  {
   "cell_type": "code",
   "execution_count": null,
   "id": "b3d6d8f7-45db-4056-add8-cfd4b5f151b0",
   "metadata": {},
   "outputs": [],
   "source": []
  }
 ],
 "metadata": {
  "kernelspec": {
   "display_name": "Python 3 (ipykernel)",
   "language": "python",
   "name": "python3"
  },
  "language_info": {
   "codemirror_mode": {
    "name": "ipython",
    "version": 3
   },
   "file_extension": ".py",
   "mimetype": "text/x-python",
   "name": "python",
   "nbconvert_exporter": "python",
   "pygments_lexer": "ipython3",
   "version": "3.12.5"
  }
 },
 "nbformat": 4,
 "nbformat_minor": 5
}
