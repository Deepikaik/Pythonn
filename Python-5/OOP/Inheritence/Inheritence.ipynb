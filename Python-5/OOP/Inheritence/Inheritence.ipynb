{
 "cells": [
  {
   "cell_type": "code",
   "execution_count": 2,
   "id": "8519cfd3-f6e5-47f6-832c-251f13cf3b61",
   "metadata": {},
   "outputs": [
    {
     "name": "stdout",
     "output_type": "stream",
     "text": [
      "child class-m1 method\n",
      "parent class-m2 method\n",
      "child class-m3 method\n"
     ]
    }
   ],
   "source": [
    "#simple\n",
    "class parent():\n",
    "    def m1(self):\n",
    "        print(\"child class-m1 method\")\n",
    "    def m2(self):\n",
    "        print(\"parent class-m2 method\")\n",
    "class child(parent):\n",
    "    def m3(self):\n",
    "        print(\"child class-m3 method\")\n",
    "\n",
    "obj=child()\n",
    "obj.m1()\n",
    "obj.m2()\n",
    "obj.m3()"
   ]
  },
  {
   "cell_type": "code",
   "execution_count": 5,
   "id": "9153076e-19eb-4c70-a6f0-898222ad4b77",
   "metadata": {},
   "outputs": [
    {
     "name": "stdout",
     "output_type": "stream",
     "text": [
      "GrandP class m1 method\n",
      "Parent class M2 method\n",
      "child class m3 method\n"
     ]
    }
   ],
   "source": [
    "#multi level\n",
    "class GrandP():\n",
    "    def m1(self):\n",
    "        print(\"GrandP class m1 method\")\n",
    "class parent(GrandP):\n",
    "    def m2(self):\n",
    "        print(\"Parent class M2 method\")\n",
    "class child(parent):\n",
    "    def m3(self):\n",
    "        print(\"child class m3 method\")\n",
    "\n",
    "obj=child()\n",
    "obj.m1()\n",
    "obj.m2()\n",
    "obj.m3()"
   ]
  },
  {
   "cell_type": "code",
   "execution_count": 6,
   "id": "87d0560c-f316-44aa-9f7d-a15b1689a457",
   "metadata": {},
   "outputs": [
    {
     "name": "stdout",
     "output_type": "stream",
     "text": [
      "Parent1 class m1 method\n",
      "Parent2 class M2 method\n",
      "child class m3 method\n"
     ]
    }
   ],
   "source": [
    "#multiple\n",
    "class Parent1():\n",
    "    def m1(self):\n",
    "        print(\"Parent1 class m1 method\")\n",
    "class Parent2:\n",
    "    def m2(self):\n",
    "        print(\"Parent2 class m2 method\")\n",
    "class child(Parent1,Parent2):\n",
    "    def m3(self):\n",
    "        print(\"child class m3 method\")\n",
    "\n",
    "obj=child()\n",
    "obj.m1()\n",
    "obj.m2()\n",
    "obj.m3()"
   ]
  },
  {
   "cell_type": "code",
   "execution_count": 14,
   "id": "6cee5a63-9814-4d9a-a958-79004f46ccf9",
   "metadata": {},
   "outputs": [
    {
     "name": "stdout",
     "output_type": "stream",
     "text": [
      "Parent1 class m1 method\n",
      "Child1 class m2 method\n",
      "Parent1 class m1 method\n",
      "Child2 class m3 method\n"
     ]
    }
   ],
   "source": [
    "#heirarchy\n",
    "class Parent1():\n",
    "    def m1(self):\n",
    "        print(\"Parent1 class m1 method\")\n",
    "class Child1(Parent1):\n",
    "    def m2(self):\n",
    "        print(\"Child1 class m2 method\")\n",
    "class Child2(Parent1):\n",
    "    def m3(self):\n",
    "        print(\"Child2 class m3 method\")\n",
    "\n",
    "obj=Child1()\n",
    "obj.m1()\n",
    "obj.m2()\n",
    "\n",
    "obj1=Child2()\n",
    "obj.m1()\n",
    "obj1.m3()"
   ]
  },
  {
   "cell_type": "code",
   "execution_count": null,
   "id": "31c0af09-9a13-4b86-8e2b-e91ce36faa0b",
   "metadata": {},
   "outputs": [],
   "source": []
  }
 ],
 "metadata": {
  "kernelspec": {
   "display_name": "Python 3 (ipykernel)",
   "language": "python",
   "name": "python3"
  },
  "language_info": {
   "codemirror_mode": {
    "name": "ipython",
    "version": 3
   },
   "file_extension": ".py",
   "mimetype": "text/x-python",
   "name": "python",
   "nbconvert_exporter": "python",
   "pygments_lexer": "ipython3",
   "version": "3.12.5"
  }
 },
 "nbformat": 4,
 "nbformat_minor": 5
}
