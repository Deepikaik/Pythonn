{
 "cells": [
  {
   "cell_type": "code",
   "execution_count": 2,
   "id": "6ec632f4-5cc0-4051-9d0c-f65af23c9f1b",
   "metadata": {},
   "outputs": [
    {
     "name": "stdout",
     "output_type": "stream",
     "text": [
      "{'__module__': '__main__', 'company_name': 'TCS', '__init__': <function Employee.__init__ at 0x000001FE4A4EE660>, '__dict__': <attribute '__dict__' of 'Employee' objects>, '__weakref__': <attribute '__weakref__' of 'Employee' objects>, '__doc__': None}\n",
      "{'eid': 101, 'ename': 'Rahul', 'esal': 45000}\n",
      "{'eid': 102, 'ename': 'Sonia', 'esal': 55000}\n",
      "{'eid': 103, 'ename': 'Priya', 'esal': 65000}\n"
     ]
    }
   ],
   "source": [
    "class Employee:\n",
    "    company_name='TCS'                 #static variable\n",
    "    def __init__(self,id,name,sal):    #self is an instance variable\n",
    "        self.eid=id\n",
    "        self.ename=name\n",
    "        self.esal=sal\n",
    "\n",
    "\n",
    "e1=Employee(101,'Rahul',45000)\n",
    "e2=Employee(102,'Sonia',55000)\n",
    "e3=Employee(103,'Priya',65000)\n",
    "\n",
    "print(Employee.__dict__)\n",
    "print(e1.__dict__)\n",
    "print(e2.__dict__)\n",
    "print(e3.__dict__)"
   ]
  },
  {
   "cell_type": "code",
   "execution_count": 8,
   "id": "0476e763-d136-4ed0-94c8-9468c1cb716a",
   "metadata": {},
   "outputs": [
    {
     "name": "stdout",
     "output_type": "stream",
     "text": [
      "{'a': 100}\n",
      "{'a': 100}\n"
     ]
    }
   ],
   "source": [
    "class Test:\n",
    "    def __init__(self):\n",
    "            self.a=100\n",
    "\n",
    "    def m1(self):\n",
    "        self.b=200\n",
    "\n",
    "t1=Test()\n",
    "t2=Test()\n",
    "\n",
    "print(t1.__dict__)\n",
    "print(t2.__dict__)"
   ]
  },
  {
   "cell_type": "code",
   "execution_count": 12,
   "id": "0c537263-4118-4851-99f6-f2b3cbab800d",
   "metadata": {},
   "outputs": [
    {
     "name": "stdout",
     "output_type": "stream",
     "text": [
      "{'a': 100, 'b': 200}\n",
      "{'a': 100}\n"
     ]
    }
   ],
   "source": [
    "class Test:\n",
    "    def __init__(self):\n",
    "            self.a=100\n",
    "\n",
    "    def m1(self):\n",
    "        self.b=200\n",
    "\n",
    "    @classmethod\n",
    "    def m2(cls):\n",
    "            pass\n",
    "    @staticmethod\n",
    "    def m2():\n",
    "            pass\n",
    "\n",
    "t1=Test()\n",
    "t2=Test()\n",
    "t1.m1()\n",
    "t1.m2()\n",
    "t2.m2()\n",
    "\n",
    "print(t1.__dict__)\n",
    "print(t2.__dict__)\n",
    "\n",
    "\n"
   ]
  },
  {
   "cell_type": "code",
   "execution_count": 14,
   "id": "27fb7d9b-4af1-4172-b86c-1191d8cd0ac0",
   "metadata": {},
   "outputs": [
    {
     "name": "stdout",
     "output_type": "stream",
     "text": [
      "{'a': 100}\n",
      "{'a': 100}\n"
     ]
    }
   ],
   "source": [
    "class test:\n",
    "    def m1(self):\n",
    "        self.a=100\n",
    "    def m2(cls):\n",
    "        print(self.a)\n",
    "\n",
    "t1=test()\n",
    "t1.m1()\n",
    "t2.m2()\n",
    "\n",
    "print(t1.__dict__)\n",
    "print(t2.__dict__)"
   ]
  },
  {
   "cell_type": "code",
   "execution_count": 16,
   "id": "b7d3eccf-7129-48df-8033-8e075afc1a7f",
   "metadata": {},
   "outputs": [
    {
     "name": "stdout",
     "output_type": "stream",
     "text": [
      "{'__module__': '__main__', 'a': 10, '__dict__': <attribute '__dict__' of 'Test' objects>, '__weakref__': <attribute '__weakref__' of 'Test' objects>, '__doc__': None}\n"
     ]
    }
   ],
   "source": [
    "#how to  create a static variable\n",
    "class Test:\n",
    "    a=10\n",
    "\n",
    "t1=Test()\n",
    "print(Test.__dict__)"
   ]
  },
  {
   "cell_type": "code",
   "execution_count": 19,
   "id": "3bed39fc-42af-44d4-9943-d7fe6c376dbd",
   "metadata": {},
   "outputs": [
    {
     "name": "stdout",
     "output_type": "stream",
     "text": [
      "{'__module__': '__main__', 'a': 10, '__init__': <function Test.__init__ at 0x000001FE4A597920>, 'm1': <function Test.m1 at 0x000001FE4A597380>, 'm2': <classmethod(<function Test.m2 at 0x000001FE4A596B60>)>, 'm3': <staticmethod(<function Test.m3 at 0x000001FE4A597A60>)>, '__dict__': <attribute '__dict__' of 'Test' objects>, '__weakref__': <attribute '__weakref__' of 'Test' objects>, '__doc__': None, 'b': 200, 'e': 500}\n",
      "{}\n"
     ]
    }
   ],
   "source": [
    "class Test:\n",
    "    a=10\n",
    "    def __init__(self):\n",
    "        Test.b=200\n",
    "    def m1(self):\n",
    "        test.c=300\n",
    "    @classmethod\n",
    "    def m2(cls):\n",
    "        test.d=400\n",
    "        cls.e=500\n",
    "    @staticmethod\n",
    "    def m3():\n",
    "        def m3():\n",
    "            Test.f=600\n",
    "\n",
    "t1=Test()\n",
    "t1.m1()\n",
    "t1.m2()\n",
    "t1.m3()\n",
    "\n",
    "print(Test.__dict__)\n",
    "\n",
    "print(t1.__dict__)"
   ]
  },
  {
   "cell_type": "code",
   "execution_count": null,
   "id": "fa6a2527-3d46-4230-bc79-608fb9fe0894",
   "metadata": {},
   "outputs": [],
   "source": []
  }
 ],
 "metadata": {
  "kernelspec": {
   "display_name": "Python 3 (ipykernel)",
   "language": "python",
   "name": "python3"
  },
  "language_info": {
   "codemirror_mode": {
    "name": "ipython",
    "version": 3
   },
   "file_extension": ".py",
   "mimetype": "text/x-python",
   "name": "python",
   "nbconvert_exporter": "python",
   "pygments_lexer": "ipython3",
   "version": "3.12.5"
  }
 },
 "nbformat": 4,
 "nbformat_minor": 5
}
